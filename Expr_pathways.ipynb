{
 "cells": [
  {
   "cell_type": "code",
   "execution_count": 52,
   "metadata": {},
   "outputs": [],
   "source": [
    "import os\n",
    "import re\n",
    "import numpy as np\n",
    "import pandas as pd\n",
    "from sklearn.decomposition import PCA\n",
    "#Visualization\n",
    "import seaborn as sns\n",
    "import matplotlib.pyplot as plt\n",
    "import matplotlib.patches as mpatches"
   ]
  },
  {
   "attachments": {},
   "cell_type": "markdown",
   "metadata": {},
   "source": [
    "### Initial data reading\n",
    "#### Read the folder files with the mean of $e_{normal}$ and $e_{tumor}$\n",
    "1. Store names in a list\n",
    "2. Store values in a list of list to transform later into an array"
   ]
  },
  {
   "cell_type": "code",
   "execution_count": 53,
   "metadata": {},
   "outputs": [],
   "source": [
    "folder_path = \"./data_generated/mean_exp_values/\"\n",
    "file_list = []\n",
    "data_store = []\n",
    "\n",
    "for file in os.listdir(folder_path):\n",
    "    # store the file name withouth path and extention\n",
    "    file_list.append(file.split('.')[0])\n",
    "    # store the data from each file\n",
    "    data_store.append(pd.read_csv(folder_path+'/'+file,\n",
    "                                  sep='\\t',header=None).iloc[:,0])\n",
    "# numpy array\n",
    "data_store = np.array(data_store)"
   ]
  },
  {
   "attachments": {},
   "cell_type": "markdown",
   "metadata": {},
   "source": [
    "### Preparing data\n",
    "\n",
    "Separating tumor and normal mean values by using numpy mask to evaluate in array and listing tissues and genes"
   ]
  },
  {
   "cell_type": "code",
   "execution_count": 54,
   "metadata": {},
   "outputs": [],
   "source": [
    "# Creating masks\n",
    "normal_mask = [name[:6] == 'normal' for name in file_list]\n",
    "tumor_mask = [name[:5] == 'tumor' for name in file_list]\n",
    "\n",
    "# List of different tissues\n",
    "tissues = np.unique(\n",
    "    [''.join(re.findall('[A-Z]', string)) for string in file_list]\n",
    "    )\n",
    "# Ensemble IDs\n",
    "ensbl = pd.read_csv(\"data_generated/ensemble.txt\",sep='\\t',header=None).iloc[:,0]"
   ]
  },
  {
   "attachments": {},
   "cell_type": "markdown",
   "metadata": {},
   "source": [
    "Precalculus matrix of differential expression:\n",
    "$$ Log2 FC = Log2 (e/e_{ref})$$\n",
    "df $->$ DataFrame with features as columns: ensemble IDs and samples as index: tissues"
   ]
  },
  {
   "cell_type": "code",
   "execution_count": 55,
   "metadata": {},
   "outputs": [],
   "source": [
    "# Calculate log2 fold-change of gene exprssion with normal tissue as reference\n",
    "Log2FC = np.log2(data_store[tumor_mask]/data_store[normal_mask])\n",
    "\n",
    "# DataFrame of gene expression fold-change\n",
    "df = pd.DataFrame(data=Log2FC,columns=ensbl,index=tissues)"
   ]
  },
  {
   "attachments": {},
   "cell_type": "markdown",
   "metadata": {},
   "source": [
    "### Pathways\n",
    "#### Top 28 pathways from Reactome\n",
    "Read the pathway data and store pathway names and genes in pathways"
   ]
  },
  {
   "cell_type": "code",
   "execution_count": 56,
   "metadata": {},
   "outputs": [
    {
     "name": "stdout",
     "output_type": "stream",
     "text": [
      " Top Pathways: 28 \n",
      " Annotated Genes: 10785\n"
     ]
    }
   ],
   "source": [
    "# Read the Top 28 pathways excel list\n",
    "top_pathways = pd.read_excel(\"./data_external/data_pathways/pathways2_sorted.xls\",header=None)\n",
    "# Name the columns\n",
    "top_pathways.columns = [\"Ensemble\",\"Pathways\"]\n",
    "\n",
    "# Count pathways\n",
    "pathways_names = pd.unique(top_pathways.Pathways)\n",
    "# Count genes in pathways\n",
    "genes_annotated = pd.unique(top_pathways.Ensemble)\n",
    "\n",
    "# Print ranges\n",
    "print(\" Top Pathways:\",\n",
    "      pathways_names.shape[0],\"\\n\",\n",
    "      \"Annotated Genes:\",\n",
    "      genes_annotated.shape[0]\n",
    "      )"
   ]
  },
  {
   "attachments": {},
   "cell_type": "markdown",
   "metadata": {},
   "source": [
    "Get matching genes in pathways and evaluate in top-pathways dataframe"
   ]
  },
  {
   "cell_type": "code",
   "execution_count": 57,
   "metadata": {},
   "outputs": [],
   "source": [
    "# Genes in pathways\n",
    "genes_path = set(ensbl) & set(genes_annotated)\n",
    "\n",
    "# Pathways with annotated genes\n",
    "pathways_annotated = top_pathways.query('Ensemble in @genes_path')"
   ]
  },
  {
   "attachments": {},
   "cell_type": "markdown",
   "metadata": {},
   "source": [
    "### Generate X Matrix to transform"
   ]
  },
  {
   "cell_type": "code",
   "execution_count": 58,
   "metadata": {},
   "outputs": [
    {
     "data": {
      "text/plain": [
       "(28, 15)"
      ]
     },
     "execution_count": 58,
     "metadata": {},
     "output_type": "execute_result"
    }
   ],
   "source": [
    "X = []\n",
    "for pathway in pathways_names:\n",
    "    # genes evaluated in pathway (variable to operate)\n",
    "    g_pathways = df[\n",
    "        pathways_annotated[pathways_annotated.Pathways == pathway].Ensemble\n",
    "    ]\n",
    "    # Ecuation above\n",
    "    X.append(np.sum(abs(g_pathways),axis=1)/g_pathways.shape[1])\n",
    "\n",
    "X = pd.DataFrame(data=X, columns=tissues,index=pathways_names)\n",
    "\n",
    "# Store the average pathway data\n",
    "X.to_csv(\"./figures_tables/tableIII.csv\")\n",
    "X.shape"
   ]
  },
  {
   "attachments": {},
   "cell_type": "markdown",
   "metadata": {},
   "source": [
    "### Average logarithmic fold-change of genes in top pathways in BRCA"
   ]
  },
  {
   "cell_type": "code",
   "execution_count": 59,
   "metadata": {},
   "outputs": [
    {
     "data": {
      "image/png": "[encoded data removed]",
      "text/plain": [
       "<Figure size 720x504 with 1 Axes>"
      ]
     },
     "metadata": {
      "needs_background": "light"
     },
     "output_type": "display_data"
    }
   ],
   "source": [
    "plt.figure(figsize=(10,7))\n",
    "plt.bar(np.arange(1,29),X.BRCA)\n",
    "plt.xticks(np.arange(1,29))\n",
    "plt.xlim(0.5,28.5)\n",
    "plt.show()"
   ]
  },
  {
   "attachments": {},
   "cell_type": "markdown",
   "metadata": {},
   "source": [
    "### Principal Components Analysis\n",
    "- Transpose the matrix X first\n",
    "- And make an uncentered PCA"
   ]
  },
  {
   "cell_type": "code",
   "execution_count": 65,
   "metadata": {},
   "outputs": [
    {
     "name": "stdout",
     "output_type": "stream",
     "text": [
      "(15, 6)\n"
     ]
    }
   ],
   "source": [
    "Y = X.T\n",
    "# PCA class\n",
    "pca = PCA(6)\n",
    "# Tissues as samples and pathways as features\n",
    "P_matrix = pca.fit(Y)\n",
    "# Make the mean 0 to uncenter\n",
    "pca.mean_ = np.zeros(Y.shape)\n",
    "# PCA transformation matrix\n",
    "P_matrix = pca.transform(Y)\n",
    "\n",
    "print(P_matrix.shape)"
   ]
  },
  {
   "attachments": {},
   "cell_type": "markdown",
   "metadata": {},
   "source": [
    "### Components\n",
    "Histogram of components"
   ]
  },
  {
   "cell_type": "code",
   "execution_count": 64,
   "metadata": {},
   "outputs": [
    {
     "data": {
      "text/plain": [
       "<matplotlib.legend.Legend at 0x7fc746934f10>"
      ]
     },
     "execution_count": 64,
     "metadata": {},
     "output_type": "execute_result"
    },
    {
     "data": {
      "image/png": "[encoded data removed]",
      "text/plain": [
       "<Figure size 432x288 with 1 Axes>"
      ]
     },
     "metadata": {
      "needs_background": "light"
     },
     "output_type": "display_data"
    }
   ],
   "source": [
    "variance = pca.explained_variance_ratio_\n",
    "label = [r'cumulativa',r'varianza']\n",
    "\n",
    "plt.bar(np.arange(1,7), variance.cumsum(), color='grey')\n",
    "plt.bar(np.arange(1,7), variance, color='blue')\n",
    "plt.xlabel('components', size=14)\n",
    "\n",
    "plt.legend(label)"
   ]
  },
  {
   "attachments": {},
   "cell_type": "markdown",
   "metadata": {},
   "source": [
    "Table of components"
   ]
  },
  {
   "cell_type": "code",
   "execution_count": null,
   "metadata": {},
   "outputs": [
    {
     "data": {
      "text/html": [
       "<div>\n",
       "<style scoped>\n",
       "    .dataframe tbody tr th:only-of-type {\n",
       "        vertical-align: middle;\n",
       "    }\n",
       "\n",
       "    .dataframe tbody tr th {\n",
       "        vertical-align: top;\n",
       "    }\n",
       "\n",
       "    .dataframe thead th {\n",
       "        text-align: right;\n",
       "    }\n",
       "</style>\n",
       "<table border=\"1\" class=\"dataframe\">\n",
       "  <thead>\n",
       "    <tr style=\"text-align: right;\">\n",
       "      <th></th>\n",
       "      <th>PC1</th>\n",
       "      <th>PC2</th>\n",
       "      <th>PC3</th>\n",
       "      <th>PC4</th>\n",
       "      <th>PC5</th>\n",
       "      <th>PC6</th>\n",
       "    </tr>\n",
       "  </thead>\n",
       "  <tbody>\n",
       "    <tr>\n",
       "      <th>BLCA</th>\n",
       "      <td>-3.411942</td>\n",
       "      <td>0.028758</td>\n",
       "      <td>-1.069093</td>\n",
       "      <td>0.096427</td>\n",
       "      <td>0.219675</td>\n",
       "      <td>0.170302</td>\n",
       "    </tr>\n",
       "    <tr>\n",
       "      <th>BRCA</th>\n",
       "      <td>-3.162593</td>\n",
       "      <td>0.249421</td>\n",
       "      <td>-1.141441</td>\n",
       "      <td>0.137515</td>\n",
       "      <td>0.079870</td>\n",
       "      <td>0.069325</td>\n",
       "    </tr>\n",
       "    <tr>\n",
       "      <th>COAD</th>\n",
       "      <td>-3.312517</td>\n",
       "      <td>1.243775</td>\n",
       "      <td>-0.669761</td>\n",
       "      <td>0.121262</td>\n",
       "      <td>0.154084</td>\n",
       "      <td>0.166313</td>\n",
       "    </tr>\n",
       "    <tr>\n",
       "      <th>ESCA</th>\n",
       "      <td>-3.900865</td>\n",
       "      <td>0.587321</td>\n",
       "      <td>-0.435974</td>\n",
       "      <td>-0.159395</td>\n",
       "      <td>-0.041864</td>\n",
       "      <td>0.005436</td>\n",
       "    </tr>\n",
       "    <tr>\n",
       "      <th>HNSC</th>\n",
       "      <td>-2.999088</td>\n",
       "      <td>0.245472</td>\n",
       "      <td>-1.005277</td>\n",
       "      <td>0.033404</td>\n",
       "      <td>-0.081237</td>\n",
       "      <td>0.327071</td>\n",
       "    </tr>\n",
       "    <tr>\n",
       "      <th>KIRC</th>\n",
       "      <td>-2.947321</td>\n",
       "      <td>1.016104</td>\n",
       "      <td>-1.229499</td>\n",
       "      <td>0.343436</td>\n",
       "      <td>-0.083474</td>\n",
       "      <td>0.024773</td>\n",
       "    </tr>\n",
       "    <tr>\n",
       "      <th>KIRP</th>\n",
       "      <td>-2.839228</td>\n",
       "      <td>1.064312</td>\n",
       "      <td>-1.246433</td>\n",
       "      <td>0.291792</td>\n",
       "      <td>-0.018856</td>\n",
       "      <td>0.053774</td>\n",
       "    </tr>\n",
       "    <tr>\n",
       "      <th>LIHC</th>\n",
       "      <td>-3.781271</td>\n",
       "      <td>0.250012</td>\n",
       "      <td>-0.292646</td>\n",
       "      <td>0.669907</td>\n",
       "      <td>0.064483</td>\n",
       "      <td>0.162717</td>\n",
       "    </tr>\n",
       "    <tr>\n",
       "      <th>LUAD</th>\n",
       "      <td>-3.260696</td>\n",
       "      <td>0.418493</td>\n",
       "      <td>-0.922998</td>\n",
       "      <td>0.186078</td>\n",
       "      <td>0.027538</td>\n",
       "      <td>0.082858</td>\n",
       "    </tr>\n",
       "    <tr>\n",
       "      <th>LUSC</th>\n",
       "      <td>-4.535661</td>\n",
       "      <td>0.565234</td>\n",
       "      <td>-1.174010</td>\n",
       "      <td>0.166588</td>\n",
       "      <td>-0.129797</td>\n",
       "      <td>0.128526</td>\n",
       "    </tr>\n",
       "    <tr>\n",
       "      <th>PRAD</th>\n",
       "      <td>-1.801529</td>\n",
       "      <td>0.334856</td>\n",
       "      <td>-0.710655</td>\n",
       "      <td>0.129061</td>\n",
       "      <td>0.215098</td>\n",
       "      <td>-0.003619</td>\n",
       "    </tr>\n",
       "    <tr>\n",
       "      <th>READ</th>\n",
       "      <td>-3.347569</td>\n",
       "      <td>1.428218</td>\n",
       "      <td>-0.927692</td>\n",
       "      <td>0.139935</td>\n",
       "      <td>0.255122</td>\n",
       "      <td>0.259705</td>\n",
       "    </tr>\n",
       "    <tr>\n",
       "      <th>STAD</th>\n",
       "      <td>-3.139487</td>\n",
       "      <td>0.604876</td>\n",
       "      <td>-0.557267</td>\n",
       "      <td>-0.008722</td>\n",
       "      <td>-0.006219</td>\n",
       "      <td>0.152948</td>\n",
       "    </tr>\n",
       "    <tr>\n",
       "      <th>THCA</th>\n",
       "      <td>-1.761456</td>\n",
       "      <td>0.390095</td>\n",
       "      <td>-0.980443</td>\n",
       "      <td>0.202088</td>\n",
       "      <td>-0.095078</td>\n",
       "      <td>0.232338</td>\n",
       "    </tr>\n",
       "    <tr>\n",
       "      <th>UCEC</th>\n",
       "      <td>-3.937777</td>\n",
       "      <td>0.205074</td>\n",
       "      <td>-1.398653</td>\n",
       "      <td>0.178630</td>\n",
       "      <td>0.260288</td>\n",
       "      <td>0.111389</td>\n",
       "    </tr>\n",
       "  </tbody>\n",
       "</table>\n",
       "</div>"
      ],
      "text/plain": [
       "           PC1       PC2       PC3       PC4       PC5       PC6\n",
       "BLCA -3.411942  0.028758 -1.069093  0.096427  0.219675  0.170302\n",
       "BRCA -3.162593  0.249421 -1.141441  0.137515  0.079870  0.069325\n",
       "COAD -3.312517  1.243775 -0.669761  0.121262  0.154084  0.166313\n",
       "ESCA -3.900865  0.587321 -0.435974 -0.159395 -0.041864  0.005436\n",
       "HNSC -2.999088  0.245472 -1.005277  0.033404 -0.081237  0.327071\n",
       "KIRC -2.947321  1.016104 -1.229499  0.343436 -0.083474  0.024773\n",
       "KIRP -2.839228  1.064312 -1.246433  0.291792 -0.018856  0.053774\n",
       "LIHC -3.781271  0.250012 -0.292646  0.669907  0.064483  0.162717\n",
       "LUAD -3.260696  0.418493 -0.922998  0.186078  0.027538  0.082858\n",
       "LUSC -4.535661  0.565234 -1.174010  0.166588 -0.129797  0.128526\n",
       "PRAD -1.801529  0.334856 -0.710655  0.129061  0.215098 -0.003619\n",
       "READ -3.347569  1.428218 -0.927692  0.139935  0.255122  0.259705\n",
       "STAD -3.139487  0.604876 -0.557267 -0.008722 -0.006219  0.152948\n",
       "THCA -1.761456  0.390095 -0.980443  0.202088 -0.095078  0.232338\n",
       "UCEC -3.937777  0.205074 -1.398653  0.178630  0.260288  0.111389"
      ]
     },
     "execution_count": 38,
     "metadata": {},
     "output_type": "execute_result"
    }
   ],
   "source": [
    "proyections_table = pd.DataFrame(P_matrix, columns=[f'PC{i}' for i in range(1, 7)])\n",
    "# Set the index as the tissues type\n",
    "proyections_table.index = tissues\n",
    "# Visualization\n",
    "proyections_table.head(15)"
   ]
  },
  {
   "attachments": {},
   "cell_type": "markdown",
   "metadata": {},
   "source": [
    "### Weights\n",
    "Stored in csv files"
   ]
  },
  {
   "cell_type": "code",
   "execution_count": null,
   "metadata": {},
   "outputs": [],
   "source": [
    "# DataFrame for all components weights\n",
    "for i in range(2):\n",
    "    # Create the table\n",
    "    pci = pd.DataFrame({f'PC{i+1}': pca.components_[i,:], 'Pathways': pathways_names})\n",
    "    # Sort descending\n",
    "    pci.sort_values(f'PC{i+1}',ascending=False)\n",
    "    # Store it\n",
    "    pci.to_csv(f'./figures_tables/weights_PC{i+1}.csv')"
   ]
  },
  {
   "attachments": {},
   "cell_type": "markdown",
   "metadata": {},
   "source": [
    "Scatterplot of the first two components"
   ]
  },
  {
   "cell_type": "code",
   "execution_count": null,
   "metadata": {},
   "outputs": [
    {
     "data": {
      "text/plain": [
       "<AxesSubplot:xlabel='PC1', ylabel='PC2'>"
      ]
     },
     "execution_count": 40,
     "metadata": {},
     "output_type": "execute_result"
    },
    {
     "data": {
      "image/png": "[encoded data removed]",
      "text/plain": [
       "<Figure size 648x432 with 1 Axes>"
      ]
     },
     "metadata": {
      "needs_background": "light"
     },
     "output_type": "display_data"
    }
   ],
   "source": [
    "plt.figure(figsize = (9,6))\n",
    "plt.xlabel('PC1', size=14)\n",
    "plt.ylabel('PC2', size=14)\n",
    "\n",
    "sns.scatterplot( x = -P_matrix[:,0], y = P_matrix[:,1], hue=X.columns)"
   ]
  },
  {
   "attachments": {},
   "cell_type": "markdown",
   "metadata": {},
   "source": [
    "Separate the group of points and create array of labels"
   ]
  },
  {
   "cell_type": "code",
   "execution_count": 122,
   "metadata": {},
   "outputs": [],
   "source": [
    "# will be use as labels\n",
    "hue = np.array(15*['Cluster 2'])\n",
    "\n",
    "# Use numpy logical indexing to set elements in 'hue' based on conditions\n",
    "hue[-P_matrix[:, 0] < 2.5] = 'Cluster 1'\n",
    "hue[P_matrix[:, 1] > 0.8] = 'Cluster 3'"
   ]
  },
  {
   "attachments": {},
   "cell_type": "markdown",
   "metadata": {},
   "source": [
    "### Descriptive scatterplot"
   ]
  },
  {
   "cell_type": "code",
   "execution_count": 123,
   "metadata": {},
   "outputs": [
    {
     "data": {
      "image/png": "[encoded data removed]",
      "text/plain": [
       "<Figure size 1080x648 with 1 Axes>"
      ]
     },
     "metadata": {},
     "output_type": "display_data"
    }
   ],
   "source": [
    "# Set figure dimension\n",
    "fig = plt.figure(figsize = (15,9),facecolor='w')\n",
    "\n",
    "# get current axe\n",
    "ax = plt.gca()\n",
    "\n",
    "# The axes labels\n",
    "plt.xlabel('PC1', fontsize=18)\n",
    "plt.ylabel('PC2', size=18)\n",
    "# xy limits\n",
    "plt.xlim(-0.5,5)\n",
    "plt.ylim(-0.5,1.8)\n",
    "\n",
    "# Scatterplot \n",
    "sns.scatterplot( x = -P_matrix[:,0], y = P_matrix[:,1], hue=hue, s=120, \n",
    "                 style=hue)\n",
    "# Normal state point\n",
    "plt.plot(0, 0, 's', color='k',markersize=8, markeredgecolor ='black')\n",
    "plt.annotate('Normal State',xy=(0.05,0.05), xycoords='data',fontsize=10)\n",
    "\n",
    "# Horizontal arrow\n",
    "harrow = mpatches.FancyArrowPatch((1, 1.7), (2.2, 1.7),\n",
    "                                 mutation_scale=15, color=\"C0\")\n",
    "# Horizontal arrow annotations\n",
    "ax.annotate('Extracel. matrix org.',\n",
    "            xy=(1.1,1.6), xycoords='data',fontsize=12)\n",
    "ax.annotate('Cell cycle',\n",
    "            xy=(1.1, 1.5), xycoords='data',fontsize=12)\n",
    "ax.annotate('Cell-cell commun',\n",
    "            xy=(1.1,1.4), xycoords='data',fontsize=12)\n",
    "ax.add_patch(harrow)\n",
    "# Vertical arrow\n",
    "varrow = mpatches.FancyArrowPatch((-0.3, 0.5), (-0.3, 1.2),\n",
    "                                 mutation_scale=15, color=\"C1\")\n",
    "# Vertical annotations\n",
    "ax.annotate('Digestion',\n",
    "            xy=(105, 315), xycoords='figure pixels',fontsize=12)\n",
    "ax.annotate('      &',\n",
    "            xy=(105, 300), xycoords='figure pixels',fontsize=12)\n",
    "ax.annotate('Absortion',\n",
    "            xy=(105, 285), xycoords='figure pixels',fontsize=12)\n",
    "ax.add_patch(varrow)\n",
    "\n",
    "# Add the labels to the points\n",
    "for i in range(len(tissues)):\n",
    "    plt.annotate(tissues[i], (-P_matrix[:,0][i], P_matrix[:,1][i]), \n",
    "                 textcoords='offset points', xytext=(0, 8),fontsize=9)\n",
    "\n",
    "# Store the fig\n",
    "fig.savefig(\"./figures_tables/PCA_scatterplot.pdf\", bbox_inches='tight')\n",
    "# Show the plot\n",
    "plt.show()"
   ]
  },
  {
   "cell_type": "code",
   "execution_count": null,
   "metadata": {},
   "outputs": [],
   "source": []
  }
 ],
 "metadata": {
  "kernelspec": {
   "display_name": "base",
   "language": "python",
   "name": "python3"
  },
  "language_info": {
   "codemirror_mode": {
    "name": "ipython",
    "version": 3
   },
   "file_extension": ".py",
   "mimetype": "text/x-python",
   "name": "python",
   "nbconvert_exporter": "python",
   "pygments_lexer": "ipython3",
   "version": "3.9.7"
  },
  "orig_nbformat": 4,
  "vscode": {
   "interpreter": {
    "hash": "1b15b47e994a45b2c1c9c2019b348cb81bbb68780db9285c808c045d049d064a"
   }
  }
 },
 "nbformat": 4,
 "nbformat_minor": 2
}
