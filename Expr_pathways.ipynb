{
 "cells": [
  {
   "cell_type": "code",
   "execution_count": 33,
   "metadata": {},
   "outputs": [],
   "source": [
    "import os\n",
    "import re\n",
    "import numpy as np\n",
    "import pandas as pd\n",
    "from sklearn.decomposition import PCA"
   ]
  },
  {
   "attachments": {},
   "cell_type": "markdown",
   "metadata": {},
   "source": [
    "### Initial data reading\n",
    "#### Read the folder files with the mean of $e_{normal}$ and $e_{tumor}$\n",
    "1. Store names in a list\n",
    "2. Store values in a list of list to transform later into an array"
   ]
  },
  {
   "cell_type": "code",
   "execution_count": 5,
   "metadata": {},
   "outputs": [],
   "source": [
    "folder_path = \"./mean_exp_values\"\n",
    "file_list = []\n",
    "data_store = []\n",
    "\n",
    "for file in os.listdir(folder_path):\n",
    "    # store the file name withouth path and extention\n",
    "    file_list.append(file.split('.')[0])\n",
    "    # store the data from each file\n",
    "    data_store.append(pd.read_csv(folder_path+'/'+file,\n",
    "                                  sep='\\t',header=None).iloc[:,0])\n",
    "# numpy array\n",
    "data_store = np.array(data_store)"
   ]
  },
  {
   "attachments": {},
   "cell_type": "markdown",
   "metadata": {},
   "source": [
    "### Preparing data\n",
    "\n",
    "Separating tumor and normal mean values by using numpy mask to evaluate in array and listing tissues and genes"
   ]
  },
  {
   "cell_type": "code",
   "execution_count": 37,
   "metadata": {},
   "outputs": [],
   "source": [
    "# Creating masks\n",
    "normal_mask = [name[:6] == 'normal' for name in file_list]\n",
    "tumor_mask = [name[:5] == 'tumor' for name in file_list]\n",
    "\n",
    "# List of different tissues\n",
    "tissues = np.unique(\n",
    "    [''.join(re.findall('[A-Z]', string)) for string in file_list]\n",
    "    )\n",
    "# Ensemble IDs\n",
    "ensbl = pd.read_csv(\"ensemble.txt\",sep='\\t',header=None).iloc[:,0]"
   ]
  },
  {
   "attachments": {},
   "cell_type": "markdown",
   "metadata": {},
   "source": [
    "Precalculus matrix of differential expression:\n",
    "$$ Log2 FC = Log2 (e/e_{ref})$$"
   ]
  },
  {
   "cell_type": "code",
   "execution_count": 98,
   "metadata": {},
   "outputs": [],
   "source": [
    "Log2FC = np.log2(data_store[tumor_mask]/data_store[normal_mask])\n",
    "\n",
    "df = pd.DataFrame(data=Log2FC,columns=ensbl,index=tissues)"
   ]
  },
  {
   "cell_type": "code",
   "execution_count": 81,
   "metadata": {},
   "outputs": [
    {
     "name": "stdout",
     "output_type": "stream",
     "text": [
      " Top Pathways: 28 \n",
      " Annotated Genes: 10785\n"
     ]
    }
   ],
   "source": [
    "top_pathways = pd.read_excel(\"pathways2_sorted.xls\",header=None)\n",
    "top_pathways.columns = [\"Ensemble\",\"Pathways\"]\n",
    "\n",
    "pathways_names = pd.unique(top_pathways.Pathways)\n",
    "genes_annotated = pd.unique(top_pathways.Ensemble)\n",
    "\n",
    "# Print ranges\n",
    "print(\" Top Pathways:\",\n",
    "      pathways_names.shape[0],\"\\n\",\n",
    "      \"Annotated Genes:\",\n",
    "      genes_annotated.shape[0]\n",
    "      )"
   ]
  },
  {
   "cell_type": "code",
   "execution_count": 85,
   "metadata": {},
   "outputs": [
    {
     "name": "stdout",
     "output_type": "stream",
     "text": [
      "There are  83  not matched genes\n"
     ]
    }
   ],
   "source": [
    "genes_coincidence = []\n",
    "missing = []\n",
    "\n",
    "for gp in ensbl:\n",
    "    if (gp in genes_annotated):\n",
    "        genes_coincidence.append(gp)\n",
    "    else:\n",
    "        missing.append(gp)\n",
    "        \n",
    "print(\"There are \",len(genes_annotated)-len(genes_coincidence), ' not matched genes')"
   ]
  },
  {
   "cell_type": "code",
   "execution_count": 99,
   "metadata": {},
   "outputs": [],
   "source": [
    "pathways_filtered = top_pathways.query('Ensemble in @genes_coincidence')"
   ]
  },
  {
   "cell_type": "code",
   "execution_count": 105,
   "metadata": {},
   "outputs": [
    {
     "data": {
      "text/plain": [
       "(15, 118)"
      ]
     },
     "execution_count": 105,
     "metadata": {},
     "output_type": "execute_result"
    }
   ],
   "source": [
    "for pathway in pathways_names:\n",
    "    df[pathways_filtered[pathways_filtered.Pathways == pathway].Ensemble]"
   ]
  },
  {
   "cell_type": "code",
   "execution_count": null,
   "metadata": {},
   "outputs": [],
   "source": [
    "df[pathways_filtered[pathways_filtered.Pathways == pathway].Ensemble]"
   ]
  },
  {
   "cell_type": "code",
   "execution_count": 117,
   "metadata": {},
   "outputs": [
    {
     "data": {
      "text/plain": [
       "BLCA    0.539432\n",
       "BRCA    0.601532\n",
       "COAD    0.717160\n",
       "ESCA    0.583834\n",
       "HNSC    0.520183\n",
       "KIRC    0.641860\n",
       "KIRP    0.557757\n",
       "LIHC    0.781604\n",
       "LUAD    0.703094\n",
       "LUSC    0.806683\n",
       "PRAD    0.344593\n",
       "READ    0.772552\n",
       "STAD    0.554418\n",
       "THCA    0.423677\n",
       "UCEC    0.688284\n",
       "dtype: float64"
      ]
     },
     "execution_count": 117,
     "metadata": {},
     "output_type": "execute_result"
    }
   ],
   "source": [
    "np.sum(abs(df[pathways_filtered[pathways_filtered.Pathways == \"Vesicle-mediated transport\"].Ensemble]),axis=1)/778\n"
   ]
  },
  {
   "cell_type": "code",
   "execution_count": 115,
   "metadata": {},
   "outputs": [
    {
     "data": {
      "text/plain": [
       "(778,)"
      ]
     },
     "execution_count": 115,
     "metadata": {},
     "output_type": "execute_result"
    }
   ],
   "source": [
    "pathways_filtered[pathways_filtered.Pathways == \"Vesicle-mediated transport\"].Ensemble.shape"
   ]
  },
  {
   "cell_type": "code",
   "execution_count": 112,
   "metadata": {},
   "outputs": [
    {
     "name": "stdout",
     "output_type": "stream",
     "text": [
      "\u001b[0;31mSignature:\u001b[0m\n",
      "\u001b[0mnp\u001b[0m\u001b[0;34m.\u001b[0m\u001b[0msum\u001b[0m\u001b[0;34m(\u001b[0m\u001b[0;34m\u001b[0m\n",
      "\u001b[0;34m\u001b[0m    \u001b[0ma\u001b[0m\u001b[0;34m,\u001b[0m\u001b[0;34m\u001b[0m\n",
      "\u001b[0;34m\u001b[0m    \u001b[0maxis\u001b[0m\u001b[0;34m=\u001b[0m\u001b[0;32mNone\u001b[0m\u001b[0;34m,\u001b[0m\u001b[0;34m\u001b[0m\n",
      "\u001b[0;34m\u001b[0m    \u001b[0mdtype\u001b[0m\u001b[0;34m=\u001b[0m\u001b[0;32mNone\u001b[0m\u001b[0;34m,\u001b[0m\u001b[0;34m\u001b[0m\n",
      "\u001b[0;34m\u001b[0m    \u001b[0mout\u001b[0m\u001b[0;34m=\u001b[0m\u001b[0;32mNone\u001b[0m\u001b[0;34m,\u001b[0m\u001b[0;34m\u001b[0m\n",
      "\u001b[0;34m\u001b[0m    \u001b[0mkeepdims\u001b[0m\u001b[0;34m=\u001b[0m\u001b[0;34m<\u001b[0m\u001b[0mno\u001b[0m \u001b[0mvalue\u001b[0m\u001b[0;34m>\u001b[0m\u001b[0;34m,\u001b[0m\u001b[0;34m\u001b[0m\n",
      "\u001b[0;34m\u001b[0m    \u001b[0minitial\u001b[0m\u001b[0;34m=\u001b[0m\u001b[0;34m<\u001b[0m\u001b[0mno\u001b[0m \u001b[0mvalue\u001b[0m\u001b[0;34m>\u001b[0m\u001b[0;34m,\u001b[0m\u001b[0;34m\u001b[0m\n",
      "\u001b[0;34m\u001b[0m    \u001b[0mwhere\u001b[0m\u001b[0;34m=\u001b[0m\u001b[0;34m<\u001b[0m\u001b[0mno\u001b[0m \u001b[0mvalue\u001b[0m\u001b[0;34m>\u001b[0m\u001b[0;34m,\u001b[0m\u001b[0;34m\u001b[0m\n",
      "\u001b[0;34m\u001b[0m\u001b[0;34m)\u001b[0m\u001b[0;34m\u001b[0m\u001b[0;34m\u001b[0m\u001b[0m\n",
      "\u001b[0;31mDocstring:\u001b[0m\n",
      "Sum of array elements over a given axis.\n",
      "\n",
      "Parameters\n",
      "----------\n",
      "a : array_like\n",
      "    Elements to sum.\n",
      "axis : None or int or tuple of ints, optional\n",
      "    Axis or axes along which a sum is performed.  The default,\n",
      "    axis=None, will sum all of the elements of the input array.  If\n",
      "    axis is negative it counts from the last to the first axis.\n",
      "\n",
      "    .. versionadded:: 1.7.0\n",
      "\n",
      "    If axis is a tuple of ints, a sum is performed on all of the axes\n",
      "    specified in the tuple instead of a single axis or all the axes as\n",
      "    before.\n",
      "dtype : dtype, optional\n",
      "    The type of the returned array and of the accumulator in which the\n",
      "    elements are summed.  The dtype of `a` is used by default unless `a`\n",
      "    has an integer dtype of less precision than the default platform\n",
      "    integer.  In that case, if `a` is signed then the platform integer\n",
      "    is used while if `a` is unsigned then an unsigned integer of the\n",
      "    same precision as the platform integer is used.\n",
      "out : ndarray, optional\n",
      "    Alternative output array in which to place the result. It must have\n",
      "    the same shape as the expected output, but the type of the output\n",
      "    values will be cast if necessary.\n",
      "keepdims : bool, optional\n",
      "    If this is set to True, the axes which are reduced are left\n",
      "    in the result as dimensions with size one. With this option,\n",
      "    the result will broadcast correctly against the input array.\n",
      "\n",
      "    If the default value is passed, then `keepdims` will not be\n",
      "    passed through to the `sum` method of sub-classes of\n",
      "    `ndarray`, however any non-default value will be.  If the\n",
      "    sub-class' method does not implement `keepdims` any\n",
      "    exceptions will be raised.\n",
      "initial : scalar, optional\n",
      "    Starting value for the sum. See `~numpy.ufunc.reduce` for details.\n",
      "\n",
      "    .. versionadded:: 1.15.0\n",
      "\n",
      "where : array_like of bool, optional\n",
      "    Elements to include in the sum. See `~numpy.ufunc.reduce` for details.\n",
      "\n",
      "    .. versionadded:: 1.17.0\n",
      "\n",
      "Returns\n",
      "-------\n",
      "sum_along_axis : ndarray\n",
      "    An array with the same shape as `a`, with the specified\n",
      "    axis removed.   If `a` is a 0-d array, or if `axis` is None, a scalar\n",
      "    is returned.  If an output array is specified, a reference to\n",
      "    `out` is returned.\n",
      "\n",
      "See Also\n",
      "--------\n",
      "ndarray.sum : Equivalent method.\n",
      "\n",
      "add.reduce : Equivalent functionality of `add`.\n",
      "\n",
      "cumsum : Cumulative sum of array elements.\n",
      "\n",
      "trapz : Integration of array values using the composite trapezoidal rule.\n",
      "\n",
      "mean, average\n",
      "\n",
      "Notes\n",
      "-----\n",
      "Arithmetic is modular when using integer types, and no error is\n",
      "raised on overflow.\n",
      "\n",
      "The sum of an empty array is the neutral element 0:\n",
      "\n",
      ">>> np.sum([])\n",
      "0.0\n",
      "\n",
      "For floating point numbers the numerical precision of sum (and\n",
      "``np.add.reduce``) is in general limited by directly adding each number\n",
      "individually to the result causing rounding errors in every step.\n",
      "However, often numpy will use a  numerically better approach (partial\n",
      "pairwise summation) leading to improved precision in many use-cases.\n",
      "This improved precision is always provided when no ``axis`` is given.\n",
      "When ``axis`` is given, it will depend on which axis is summed.\n",
      "Technically, to provide the best speed possible, the improved precision\n",
      "is only used when the summation is along the fast axis in memory.\n",
      "Note that the exact precision may vary depending on other parameters.\n",
      "In contrast to NumPy, Python's ``math.fsum`` function uses a slower but\n",
      "more precise approach to summation.\n",
      "Especially when summing a large number of lower precision floating point\n",
      "numbers, such as ``float32``, numerical errors can become significant.\n",
      "In such cases it can be advisable to use `dtype=\"float64\"` to use a higher\n",
      "precision for the output.\n",
      "\n",
      "Examples\n",
      "--------\n",
      ">>> np.sum([0.5, 1.5])\n",
      "2.0\n",
      ">>> np.sum([0.5, 0.7, 0.2, 1.5], dtype=np.int32)\n",
      "1\n",
      ">>> np.sum([[0, 1], [0, 5]])\n",
      "6\n",
      ">>> np.sum([[0, 1], [0, 5]], axis=0)\n",
      "array([0, 6])\n",
      ">>> np.sum([[0, 1], [0, 5]], axis=1)\n",
      "array([1, 5])\n",
      ">>> np.sum([[0, 1], [np.nan, 5]], where=[False, True], axis=1)\n",
      "array([1., 5.])\n",
      "\n",
      "If the accumulator is too small, overflow occurs:\n",
      "\n",
      ">>> np.ones(128, dtype=np.int8).sum(dtype=np.int8)\n",
      "-128\n",
      "\n",
      "You can also start the sum with a value other than zero:\n",
      "\n",
      ">>> np.sum([10], initial=5)\n",
      "15\n",
      "\u001b[0;31mFile:\u001b[0m      ~/anaconda3/lib/python3.9/site-packages/numpy/core/fromnumeric.py\n",
      "\u001b[0;31mType:\u001b[0m      function\n"
     ]
    }
   ],
   "source": [
    "np.sum?"
   ]
  },
  {
   "cell_type": "code",
   "execution_count": null,
   "metadata": {},
   "outputs": [],
   "source": []
  }
 ],
 "metadata": {
  "kernelspec": {
   "display_name": "base",
   "language": "python",
   "name": "python3"
  },
  "language_info": {
   "codemirror_mode": {
    "name": "ipython",
    "version": 3
   },
   "file_extension": ".py",
   "mimetype": "text/x-python",
   "name": "python",
   "nbconvert_exporter": "python",
   "pygments_lexer": "ipython3",
   "version": "3.9.7"
  },
  "orig_nbformat": 4,
  "vscode": {
   "interpreter": {
    "hash": "1b15b47e994a45b2c1c9c2019b348cb81bbb68780db9285c808c045d049d064a"
   }
  }
 },
 "nbformat": 4,
 "nbformat_minor": 2
}
