{
 "cells": [
  {
   "cell_type": "code",
   "execution_count": 2,
   "metadata": {},
   "outputs": [],
   "source": [
    "import os\n",
    "import numpy as np\n",
    "import pandas as pd\n",
    "from sklearn.decomposition import PCA"
   ]
  },
  {
   "cell_type": "code",
   "execution_count": 18,
   "metadata": {},
   "outputs": [],
   "source": [
    "folder_path = \"./mean_exp_values\"\n",
    "\n",
    "for file in os.listdir(folder_path):\n",
    "    file_path = os.path.join(folder_path, file)"
   ]
  },
  {
   "cell_type": "code",
   "execution_count": 20,
   "metadata": {},
   "outputs": [
    {
     "data": {
      "text/plain": [
       "'./mean_exp_values/tumorUCEC.dat'"
      ]
     },
     "execution_count": 20,
     "metadata": {},
     "output_type": "execute_result"
    }
   ],
   "source": [
    "file_path"
   ]
  },
  {
   "cell_type": "code",
   "execution_count": 19,
   "metadata": {},
   "outputs": [
    {
     "name": "stdout",
     "output_type": "stream",
     "text": [
      "\u001b[0;31mType:\u001b[0m        module\n",
      "\u001b[0;31mString form:\u001b[0m <module 'posixpath' from '/home/sam/anaconda3/lib/python3.9/posixpath.py'>\n",
      "\u001b[0;31mFile:\u001b[0m        ~/anaconda3/lib/python3.9/posixpath.py\n",
      "\u001b[0;31mDocstring:\u001b[0m  \n",
      "Common operations on Posix pathnames.\n",
      "\n",
      "Instead of importing this module directly, import os and refer to\n",
      "this module as os.path.  The \"os.path\" name is an alias for this\n",
      "module on Posix systems; on other systems (e.g. Windows),\n",
      "os.path provides the same operations in a manner specific to that\n",
      "platform, and is an alias to another module (e.g. ntpath).\n",
      "\n",
      "Some of this can actually be useful on non-Posix systems too, e.g.\n",
      "for manipulation of the pathname component of URLs.\n"
     ]
    }
   ],
   "source": [
    "os.path?"
   ]
  },
  {
   "cell_type": "code",
   "execution_count": null,
   "metadata": {},
   "outputs": [],
   "source": []
  }
 ],
 "metadata": {
  "kernelspec": {
   "display_name": "base",
   "language": "python",
   "name": "python3"
  },
  "language_info": {
   "codemirror_mode": {
    "name": "ipython",
    "version": 3
   },
   "file_extension": ".py",
   "mimetype": "text/x-python",
   "name": "python",
   "nbconvert_exporter": "python",
   "pygments_lexer": "ipython3",
   "version": "3.9.7"
  },
  "orig_nbformat": 4,
  "vscode": {
   "interpreter": {
    "hash": "1b15b47e994a45b2c1c9c2019b348cb81bbb68780db9285c808c045d049d064a"
   }
  }
 },
 "nbformat": 4,
 "nbformat_minor": 2
}
