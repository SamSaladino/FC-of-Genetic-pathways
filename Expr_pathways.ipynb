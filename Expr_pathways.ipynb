{
 "cells": [
  {
   "cell_type": "code",
   "execution_count": 2,
   "metadata": {},
   "outputs": [],
   "source": [
    "import os\n",
    "import re\n",
    "import numpy as np\n",
    "import pandas as pd\n",
    "from sklearn.decomposition import PCA\n",
    "#Visualization\n",
    "import seaborn as sns\n",
    "import matplotlib.pyplot as plt"
   ]
  },
  {
   "attachments": {},
   "cell_type": "markdown",
   "metadata": {},
   "source": [
    "### Initial data reading\n",
    "#### Read the folder files with the mean of $e_{normal}$ and $e_{tumor}$\n",
    "1. Store names in a list\n",
    "2. Store values in a list of list to transform later into an array"
   ]
  },
  {
   "cell_type": "code",
   "execution_count": 3,
   "metadata": {},
   "outputs": [],
   "source": [
    "folder_path = \"./data_external/mean_exp_values/\"\n",
    "file_list = []\n",
    "data_store = []\n",
    "\n",
    "for file in os.listdir(folder_path):\n",
    "    # store the file name withouth path and extention\n",
    "    file_list.append(file.split('.')[0])\n",
    "    # store the data from each file\n",
    "    data_store.append(pd.read_csv(folder_path+'/'+file,\n",
    "                                  sep='\\t',header=None).iloc[:,0])\n",
    "# numpy array\n",
    "data_store = np.array(data_store)"
   ]
  },
  {
   "attachments": {},
   "cell_type": "markdown",
   "metadata": {},
   "source": [
    "### Preparing data\n",
    "\n",
    "Separating tumor and normal mean values by using numpy mask to evaluate in array and listing tissues and genes"
   ]
  },
  {
   "cell_type": "code",
   "execution_count": 4,
   "metadata": {},
   "outputs": [],
   "source": [
    "# Creating masks\n",
    "normal_mask = [name[:6] == 'normal' for name in file_list]\n",
    "tumor_mask = [name[:5] == 'tumor' for name in file_list]\n",
    "\n",
    "# List of different tissues\n",
    "tissues = np.unique(\n",
    "    [''.join(re.findall('[A-Z]', string)) for string in file_list]\n",
    "    )\n",
    "# Ensemble IDs\n",
    "ensbl = pd.read_csv(\"data_external/ensemble.txt\",sep='\\t',header=None).iloc[:,0]"
   ]
  },
  {
   "attachments": {},
   "cell_type": "markdown",
   "metadata": {},
   "source": [
    "Precalculus matrix of differential expression:\n",
    "$$ Log2 FC = Log2 (e/e_{ref})$$\n",
    "df $->$ DataFrame with features as columns: ensemble IDs and samples as index: tissues"
   ]
  },
  {
   "cell_type": "code",
   "execution_count": 5,
   "metadata": {},
   "outputs": [],
   "source": [
    "# Calculate log2 fold-change of gene exprssion with normal tissue as reference\n",
    "Log2FC = np.log2(data_store[tumor_mask]/data_store[normal_mask])\n",
    "\n",
    "# DataFrame of gene expression fold-change\n",
    "df = pd.DataFrame(data=Log2FC,columns=ensbl,index=tissues)"
   ]
  },
  {
   "attachments": {},
   "cell_type": "markdown",
   "metadata": {},
   "source": [
    "### Pathways\n",
    "#### Top 28 pathways from Reactome\n",
    "Read the pathway data and store pathway names and genes in pathways"
   ]
  },
  {
   "cell_type": "code",
   "execution_count": 6,
   "metadata": {},
   "outputs": [
    {
     "name": "stdout",
     "output_type": "stream",
     "text": [
      " Top Pathways: 28 \n",
      " Annotated Genes: 10785\n"
     ]
    }
   ],
   "source": [
    "# Read the Top 28 pathways excel list\n",
    "top_pathways = pd.read_excel(\"data_pathways/pathways2_sorted.xls\",header=None)\n",
    "# Name the columns\n",
    "top_pathways.columns = [\"Ensemble\",\"Pathways\"]\n",
    "\n",
    "# Count pathways\n",
    "pathways_names = pd.unique(top_pathways.Pathways)\n",
    "# Count genes in pathways\n",
    "genes_annotated = pd.unique(top_pathways.Ensemble)\n",
    "\n",
    "# Print ranges\n",
    "print(\" Top Pathways:\",\n",
    "      pathways_names.shape[0],\"\\n\",\n",
    "      \"Annotated Genes:\",\n",
    "      genes_annotated.shape[0]\n",
    "      )"
   ]
  },
  {
   "attachments": {},
   "cell_type": "markdown",
   "metadata": {},
   "source": [
    "Get matching genes in pathways and evaluate in top-pathways dataframe"
   ]
  },
  {
   "cell_type": "code",
   "execution_count": 7,
   "metadata": {},
   "outputs": [],
   "source": [
    "# Genes in pathways\n",
    "genes_path = set(ensbl) & set(genes_annotated)\n",
    "\n",
    "# Pathways with annotated genes\n",
    "pathways_annotated = top_pathways.query('Ensemble in @genes_path')"
   ]
  },
  {
   "cell_type": "code",
   "execution_count": 8,
   "metadata": {},
   "outputs": [],
   "source": [
    "X = []\n",
    "for pathway in pathways_names:\n",
    "    # genes evaluated in pathway (variable to operate)\n",
    "    g_pathways = df[\n",
    "        pathways_annotated[pathways_annotated.Pathways == pathway].Ensemble\n",
    "    ]\n",
    "    # Ecuation above\n",
    "    X.append(np.sum(abs(g_pathways),axis=1)/g_pathways.shape[1])\n",
    "\n",
    "X = pd.DataFrame(data=X, columns=tissues,index=pathways_names)\n",
    "\n",
    "# Store the average pathway data\n",
    "X.to_csv(\"./data_generated/pathways_matrix.csv\")"
   ]
  },
  {
   "attachments": {},
   "cell_type": "markdown",
   "metadata": {},
   "source": [
    "### Principal Components Analysis"
   ]
  },
  {
   "cell_type": "code",
   "execution_count": 9,
   "metadata": {},
   "outputs": [
    {
     "name": "stdout",
     "output_type": "stream",
     "text": [
      "(15, 6)\n"
     ]
    }
   ],
   "source": [
    "pca = PCA(6)\n",
    "# Tissues as samples and pathways as features\n",
    "P_matrix = pca.fit_transform(X.T)\n",
    "\n",
    "print(P_matrix.shape)"
   ]
  },
  {
   "attachments": {},
   "cell_type": "markdown",
   "metadata": {},
   "source": [
    "Saving eigenvalues and eigenvectors of the PCA"
   ]
  },
  {
   "cell_type": "code",
   "execution_count": 10,
   "metadata": {},
   "outputs": [],
   "source": [
    "# Eigenvalues\n",
    "np.savetxt(fname='./data_generated/pca_eigenvalues.txt', X=pca.explained_variance_)\n",
    "# Eigenvectors\n",
    "np.savetxt(fname='./data_generated/pca_eigenvectors',X=pca.components_)\n",
    "# Variance\n",
    "variance = pca.explained_variance_ratio_\n",
    "np.savetxt(fname='./data_generated/variance.txt', X=variance)"
   ]
  },
  {
   "attachments": {},
   "cell_type": "markdown",
   "metadata": {},
   "source": [
    "Histogram of components"
   ]
  },
  {
   "cell_type": "code",
   "execution_count": 11,
   "metadata": {},
   "outputs": [
    {
     "data": {
      "image/png": "[encoded data removed]",
      "text/plain": [
       "<Figure size 432x288 with 1 Axes>"
      ]
     },
     "metadata": {
      "needs_background": "light"
     },
     "output_type": "display_data"
    }
   ],
   "source": [
    "label = [r'cumulativa',r'varianza']\n",
    "\n",
    "plt.bar(np.arange(1,7), variance.cumsum(), color='grey')\n",
    "plt.bar(np.arange(1,7), variance, color='blue')\n",
    "plt.xlabel('components', size=14)\n",
    "\n",
    "plt.legend(label)\n",
    "plt.savefig(\"./figures_tables/hist_process\",dpi=500,bbox_inches='tight')"
   ]
  },
  {
   "attachments": {},
   "cell_type": "markdown",
   "metadata": {},
   "source": [
    "Table of components"
   ]
  },
  {
   "cell_type": "code",
   "execution_count": 17,
   "metadata": {},
   "outputs": [
    {
     "data": {
      "text/html": [
       "<div>\n",
       "<style scoped>\n",
       "    .dataframe tbody tr th:only-of-type {\n",
       "        vertical-align: middle;\n",
       "    }\n",
       "\n",
       "    .dataframe tbody tr th {\n",
       "        vertical-align: top;\n",
       "    }\n",
       "\n",
       "    .dataframe thead th {\n",
       "        text-align: right;\n",
       "    }\n",
       "</style>\n",
       "<table border=\"1\" class=\"dataframe\">\n",
       "  <thead>\n",
       "    <tr style=\"text-align: right;\">\n",
       "      <th></th>\n",
       "      <th>PC1</th>\n",
       "      <th>PC2</th>\n",
       "      <th>PC3</th>\n",
       "      <th>PC4</th>\n",
       "      <th>PC5</th>\n",
       "      <th>PC6</th>\n",
       "    </tr>\n",
       "  </thead>\n",
       "  <tbody>\n",
       "    <tr>\n",
       "      <th>BLCA</th>\n",
       "      <td>-0.202675</td>\n",
       "      <td>-0.546710</td>\n",
       "      <td>-0.151637</td>\n",
       "      <td>-0.072107</td>\n",
       "      <td>0.165033</td>\n",
       "      <td>0.040712</td>\n",
       "    </tr>\n",
       "    <tr>\n",
       "      <th>BRCA</th>\n",
       "      <td>0.046674</td>\n",
       "      <td>-0.326047</td>\n",
       "      <td>-0.223985</td>\n",
       "      <td>-0.031019</td>\n",
       "      <td>0.025228</td>\n",
       "      <td>-0.060265</td>\n",
       "    </tr>\n",
       "    <tr>\n",
       "      <th>COAD</th>\n",
       "      <td>-0.103250</td>\n",
       "      <td>0.668307</td>\n",
       "      <td>0.247695</td>\n",
       "      <td>-0.047272</td>\n",
       "      <td>0.099441</td>\n",
       "      <td>0.036723</td>\n",
       "    </tr>\n",
       "    <tr>\n",
       "      <th>ESCA</th>\n",
       "      <td>-0.691598</td>\n",
       "      <td>0.011853</td>\n",
       "      <td>0.481482</td>\n",
       "      <td>-0.327928</td>\n",
       "      <td>-0.096506</td>\n",
       "      <td>-0.124155</td>\n",
       "    </tr>\n",
       "    <tr>\n",
       "      <th>HNSC</th>\n",
       "      <td>0.210179</td>\n",
       "      <td>-0.329996</td>\n",
       "      <td>-0.087821</td>\n",
       "      <td>-0.135130</td>\n",
       "      <td>-0.135879</td>\n",
       "      <td>0.197480</td>\n",
       "    </tr>\n",
       "    <tr>\n",
       "      <th>KIRC</th>\n",
       "      <td>0.261946</td>\n",
       "      <td>0.440635</td>\n",
       "      <td>-0.312043</td>\n",
       "      <td>0.174902</td>\n",
       "      <td>-0.138116</td>\n",
       "      <td>-0.104818</td>\n",
       "    </tr>\n",
       "    <tr>\n",
       "      <th>KIRP</th>\n",
       "      <td>0.370038</td>\n",
       "      <td>0.488844</td>\n",
       "      <td>-0.328977</td>\n",
       "      <td>0.123258</td>\n",
       "      <td>-0.073498</td>\n",
       "      <td>-0.075817</td>\n",
       "    </tr>\n",
       "    <tr>\n",
       "      <th>LIHC</th>\n",
       "      <td>-0.572005</td>\n",
       "      <td>-0.325456</td>\n",
       "      <td>0.624810</td>\n",
       "      <td>0.501373</td>\n",
       "      <td>0.009841</td>\n",
       "      <td>0.033127</td>\n",
       "    </tr>\n",
       "    <tr>\n",
       "      <th>LUAD</th>\n",
       "      <td>-0.051430</td>\n",
       "      <td>-0.156975</td>\n",
       "      <td>-0.005542</td>\n",
       "      <td>0.017544</td>\n",
       "      <td>-0.027104</td>\n",
       "      <td>-0.046732</td>\n",
       "    </tr>\n",
       "    <tr>\n",
       "      <th>LUSC</th>\n",
       "      <td>-1.326394</td>\n",
       "      <td>-0.010234</td>\n",
       "      <td>-0.256554</td>\n",
       "      <td>-0.001946</td>\n",
       "      <td>-0.184439</td>\n",
       "      <td>-0.001064</td>\n",
       "    </tr>\n",
       "    <tr>\n",
       "      <th>PRAD</th>\n",
       "      <td>1.407738</td>\n",
       "      <td>-0.240612</td>\n",
       "      <td>0.206801</td>\n",
       "      <td>-0.039473</td>\n",
       "      <td>0.160456</td>\n",
       "      <td>-0.133209</td>\n",
       "    </tr>\n",
       "    <tr>\n",
       "      <th>READ</th>\n",
       "      <td>-0.138302</td>\n",
       "      <td>0.852750</td>\n",
       "      <td>-0.010235</td>\n",
       "      <td>-0.028598</td>\n",
       "      <td>0.200480</td>\n",
       "      <td>0.130115</td>\n",
       "    </tr>\n",
       "    <tr>\n",
       "      <th>STAD</th>\n",
       "      <td>0.069780</td>\n",
       "      <td>0.029408</td>\n",
       "      <td>0.360189</td>\n",
       "      <td>-0.177256</td>\n",
       "      <td>-0.060862</td>\n",
       "      <td>0.023358</td>\n",
       "    </tr>\n",
       "    <tr>\n",
       "      <th>THCA</th>\n",
       "      <td>1.447811</td>\n",
       "      <td>-0.185373</td>\n",
       "      <td>-0.062987</td>\n",
       "      <td>0.033554</td>\n",
       "      <td>-0.149720</td>\n",
       "      <td>0.102747</td>\n",
       "    </tr>\n",
       "  </tbody>\n",
       "</table>\n",
       "</div>"
      ],
      "text/plain": [
       "           PC1       PC2       PC3       PC4       PC5       PC6\n",
       "BLCA -0.202675 -0.546710 -0.151637 -0.072107  0.165033  0.040712\n",
       "BRCA  0.046674 -0.326047 -0.223985 -0.031019  0.025228 -0.060265\n",
       "COAD -0.103250  0.668307  0.247695 -0.047272  0.099441  0.036723\n",
       "ESCA -0.691598  0.011853  0.481482 -0.327928 -0.096506 -0.124155\n",
       "HNSC  0.210179 -0.329996 -0.087821 -0.135130 -0.135879  0.197480\n",
       "KIRC  0.261946  0.440635 -0.312043  0.174902 -0.138116 -0.104818\n",
       "KIRP  0.370038  0.488844 -0.328977  0.123258 -0.073498 -0.075817\n",
       "LIHC -0.572005 -0.325456  0.624810  0.501373  0.009841  0.033127\n",
       "LUAD -0.051430 -0.156975 -0.005542  0.017544 -0.027104 -0.046732\n",
       "LUSC -1.326394 -0.010234 -0.256554 -0.001946 -0.184439 -0.001064\n",
       "PRAD  1.407738 -0.240612  0.206801 -0.039473  0.160456 -0.133209\n",
       "READ -0.138302  0.852750 -0.010235 -0.028598  0.200480  0.130115\n",
       "STAD  0.069780  0.029408  0.360189 -0.177256 -0.060862  0.023358\n",
       "THCA  1.447811 -0.185373 -0.062987  0.033554 -0.149720  0.102747"
      ]
     },
     "execution_count": 17,
     "metadata": {},
     "output_type": "execute_result"
    }
   ],
   "source": [
    "proyections_table = pd.DataFrame(P_matrix, columns=[f'PC{i}' for i in range(1, 7)])\n",
    "# Set the index as the tissues type\n",
    "proyections_table.index = tissues\n",
    "# Store the table into a csv file\n",
    "proyections_table.to_csv('./data_generated/PCAproyections.csv')\n",
    "# Visualization\n",
    "proyections_table.head(14)"
   ]
  },
  {
   "attachments": {},
   "cell_type": "markdown",
   "metadata": {},
   "source": [
    "Scatterplot of the first two components"
   ]
  },
  {
   "cell_type": "code",
   "execution_count": 70,
   "metadata": {},
   "outputs": [
    {
     "data": {
      "text/plain": [
       "<AxesSubplot:xlabel='PC1', ylabel='PC2'>"
      ]
     },
     "execution_count": 70,
     "metadata": {},
     "output_type": "execute_result"
    },
    {
     "data": {
      "image/png": "[encoded data removed]",
      "text/plain": [
       "<Figure size 648x432 with 1 Axes>"
      ]
     },
     "metadata": {
      "needs_background": "light"
     },
     "output_type": "display_data"
    }
   ],
   "source": [
    "plt.figure(figsize = (9,6))\n",
    "plt.xlabel('PC1', size=14)\n",
    "plt.ylabel('PC2', size=14)\n",
    "\n",
    "sns.scatterplot( x = -P_matrix[:,0], y = P_matrix[:,1], hue=X.columns)"
   ]
  },
  {
   "attachments": {},
   "cell_type": "markdown",
   "metadata": {},
   "source": [
    "Separate the group of points and create array of labels"
   ]
  },
  {
   "cell_type": "code",
   "execution_count": 81,
   "metadata": {},
   "outputs": [],
   "source": [
    "# will be use as labels\n",
    "hue = np.array(15*['Group1'])\n",
    "\n",
    "# Use numpy logical indexing to set elements in 'hue' based on conditions\n",
    "hue[-P_matrix[:, 0] < -1] = 'Group2'\n",
    "hue[P_matrix[:, 1] > 0.3] = 'Group3'"
   ]
  },
  {
   "cell_type": "code",
   "execution_count": 201,
   "metadata": {},
   "outputs": [
    {
     "data": {
      "image/png": "[encoded data removed]",
      "text/plain": [
       "<Figure size 864x648 with 1 Axes>"
      ]
     },
     "metadata": {
      "needs_background": "light"
     },
     "output_type": "display_data"
    }
   ],
   "source": [
    "plt.figure(figsize = (12,9))\n",
    "plt.xlabel('PC1', size=14)\n",
    "plt.ylabel('PC2', size=14)\n",
    "\n",
    "# Anotate proyections in PC1 \n",
    "plt.annotate('Extracel. matrix org.',\n",
    "            xy=(80, 130), xycoords='figure pixels', fontsize=13)\n",
    "plt.annotate('Cell cycle',\n",
    "            xy=(80, 115), xycoords='figure pixels', fontsize=13)\n",
    "plt.annotate('Cell-cell commun.',\n",
    "            xy=(80, 100), xycoords='figure pixels', fontsize=13)\n",
    "plt.annotate('DNA replication',\n",
    "            xy=(80, 85), xycoords='figure pixels', fontsize=13)\n",
    "\n",
    "# Horizontal arrow\n",
    "plt.annotate('point offset from data',\n",
    "            xy=(10,-0.8), xycoords='data',\n",
    "            xytext=(80,85), textcoords='offset points',\n",
    "            arrowprops=dict(facecolor='black', shrink=0.55),\n",
    "            horizontalalignment='center', verticalalignment='center')\n",
    "\n",
    "\n",
    "sns.scatterplot( x = -P_matrix[:,0], y = P_matrix[:,1], hue=hue, s=90)\n",
    "\n",
    "# Add the labels to the points\n",
    "for i in range(len(tissues)):\n",
    "    plt.annotate(tissues[i], (-P_matrix[:,0][i], P_matrix[:,1][i]), \n",
    "                 textcoords='offset points', xytext=(0, 10))\n",
    "\n",
    "# Store the fig\n",
    "plt.savefig(\"./figures_tables/PCA_scatterplot\",dpi=500,bbox_inches='tight')\n",
    "# Show the plot\n",
    "plt.show()"
   ]
  },
  {
   "cell_type": "code",
   "execution_count": 162,
   "metadata": {},
   "outputs": [
    {
     "data": {
      "image/png": "[encoded data removed]",
      "text/plain": [
       "<Figure size 432x288 with 1 Axes>"
      ]
     },
     "metadata": {
      "needs_background": "light"
     },
     "output_type": "display_data"
    }
   ],
   "source": [
    "from matplotlib.patches import Circle\n",
    "from matplotlib.offsetbox import (TextArea, DrawingArea, OffsetImage,\n",
    "                                  AnnotationBbox)\n",
    "from matplotlib.cbook import get_sample_data\n",
    "\n",
    "\n",
    "fig, ax = plt.subplots()\n",
    "\n",
    "# Define a 1st position to annotate (display it with a marker)\n",
    "xy = (0.5, 0.7)\n",
    "ax.plot(xy[0], xy[1], \".r\")\n",
    "\n",
    "# Annotate the 1st position with a text box ('Test 1')\n",
    "offsetbox = TextArea(\"Test 1\")\n",
    "\n",
    "ab = AnnotationBbox(offsetbox, xy,\n",
    "                    xybox=(-20, 40),\n",
    "                    xycoords='data',\n",
    "                    boxcoords=\"offset points\",\n",
    "                    arrowprops=dict(arrowstyle=\"->\"),\n",
    "                    bboxprops=dict(alpha=0.5))\n",
    "ax.add_artist(ab)\n",
    "\n",
    "\n",
    "# Define a 2nd position to annotate (don't display with a marker this time)\n",
    "xy = [0, 0.8]\n",
    "\n",
    "# Annotate the 2nd position with a circle patch\n",
    "da = TextArea(\"Digestion and absortion\")\n",
    "\n",
    "ab = AnnotationBbox(da, xy,\n",
    "                    xybox=(1., xy[1]),\n",
    "                    xycoords='data',\n",
    "                    boxcoords=(\"axes fraction\", \"data\"),\n",
    "                    box_alignment=(5,10),\n",
    "                    arrowprops=dict(arrowstyle=\"->\"),\n",
    "                    bboxprops=dict(alpha=0.1))\n",
    "\n",
    "ax.add_artist(ab)\n",
    "\n",
    "\n",
    "# Fix the display limits to see everything\n",
    "ax.set_xlim(0, 1)\n",
    "ax.set_ylim(0, 1)\n",
    "\n",
    "plt.show()"
   ]
  },
  {
   "cell_type": "code",
   "execution_count": 197,
   "metadata": {},
   "outputs": [
    {
     "data": {
      "text/plain": [
       "[(-1.0, 5.0), (-3.0, 5.0)]"
      ]
     },
     "execution_count": 197,
     "metadata": {},
     "output_type": "execute_result"
    },
    {
     "data": {
      "image/png": "[encoded data removed]",
      "text/plain": [
       "<Figure size 864x648 with 1 Axes>"
      ]
     },
     "metadata": {
      "needs_background": "light"
     },
     "output_type": "display_data"
    }
   ],
   "source": [
    "# Create our figure and data we'll use for plotting\n",
    "fig, ax = plt.subplots(figsize=(12, 9))\n",
    "\n",
    "t = np.arange(0.0, 5.0, 0.01)\n",
    "s = np.cos(2*np.pi*t)\n",
    "\n",
    "# Plot a line and add some simple annotations\n",
    "line, = ax.plot(t, s)\n",
    "ax.annotate('figure pixels',\n",
    "            xy=(10, 10), xycoords='figure pixels')\n",
    "ax.annotate('figure points',\n",
    "            xy=(107, 110), xycoords='figure points',\n",
    "            fontsize=12)\n",
    "ax.annotate('figure fraction',\n",
    "            xy=(.025, .975), xycoords='figure fraction',\n",
    "            horizontalalignment='left', verticalalignment='top',\n",
    "            fontsize=20)\n",
    "\n",
    "# The following examples show off how these arrows are drawn.\n",
    "\n",
    "ax.annotate('point offset from data',\n",
    "            xy=(3, 1), xycoords='data',\n",
    "            xytext=(-10, 90), textcoords='offset points',\n",
    "            arrowprops=dict(facecolor='black', shrink=0.05),\n",
    "            horizontalalignment='center', verticalalignment='bottom')\n",
    "\n",
    "ax.annotate('axes fraction',\n",
    "            xy=(2, 1), xycoords='data',\n",
    "            xytext=(0.36, 0.68), textcoords='axes fraction',\n",
    "            arrowprops=dict(facecolor='black', shrink=0.05),\n",
    "            horizontalalignment='right', verticalalignment='top')\n",
    "\n",
    "# You may also use negative points or pixels to specify from (right, top).\n",
    "# E.g., (-10, 10) is 10 points to the left of the right side of the axes and 10\n",
    "# points above the bottom\n",
    "\n",
    "ax.annotate('pixel offset from axes fraction',\n",
    "            xy=(1, 0), xycoords='axes fraction',\n",
    "            xytext=(-20, 20), textcoords='offset pixels',\n",
    "            horizontalalignment='right',\n",
    "            verticalalignment='bottom')\n",
    "\n",
    "ax.set(xlim=(-1, 5), ylim=(-3, 5))"
   ]
  },
  {
   "cell_type": "code",
   "execution_count": null,
   "metadata": {},
   "outputs": [],
   "source": []
  }
 ],
 "metadata": {
  "kernelspec": {
   "display_name": "base",
   "language": "python",
   "name": "python3"
  },
  "language_info": {
   "codemirror_mode": {
    "name": "ipython",
    "version": 3
   },
   "file_extension": ".py",
   "mimetype": "text/x-python",
   "name": "python",
   "nbconvert_exporter": "python",
   "pygments_lexer": "ipython3",
   "version": "3.9.7"
  },
  "orig_nbformat": 4,
  "vscode": {
   "interpreter": {
    "hash": "1b15b47e994a45b2c1c9c2019b348cb81bbb68780db9285c808c045d049d064a"
   }
  }
 },
 "nbformat": 4,
 "nbformat_minor": 2
}
