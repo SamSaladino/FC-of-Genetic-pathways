{
 "cells": [
  {
   "cell_type": "code",
   "execution_count": 37,
   "metadata": {},
   "outputs": [],
   "source": [
    "import os\n",
    "import re\n",
    "import numpy as np\n",
    "import pandas as pd\n",
    "from scipy.stats import gmean\n",
    "from sklearn.decomposition import PCA\n",
    "#Visualization\n",
    "import seaborn as sns\n",
    "import matplotlib.pyplot as plt\n",
    "import matplotlib.patches as mpatches"
   ]
  },
  {
   "cell_type": "code",
   "execution_count": 38,
   "metadata": {},
   "outputs": [
    {
     "name": "stdout",
     "output_type": "stream",
     "text": [
      "Metastatic       367\n",
      "Primary Tumor    103\n",
      "Name: Sample_Type, dtype: int64\n"
     ]
    }
   ],
   "source": [
    "sample_info = pd.read_csv(\"./data_external/melanoma_data/sample.csv\")\n",
    "sample_info.columns = ['File_Name', 'Case_ID','Sample_ID','Sample_Type']\n",
    "\n",
    "sample = sample_info.loc[~(\n",
    "    (sample_info.Sample_Type == 'Solid Tissue Normal') |\n",
    "    (sample_info.Sample_Type == 'Additional Metastatic')\n",
    "    )]\n",
    "\n",
    "print(sample.Sample_Type.value_counts())"
   ]
  },
  {
   "cell_type": "code",
   "execution_count": 39,
   "metadata": {},
   "outputs": [
    {
     "data": {
      "text/plain": [
       "(60483,)"
      ]
     },
     "execution_count": 39,
     "metadata": {},
     "output_type": "execute_result"
    }
   ],
   "source": [
    "df_genes = pd.read_csv(\"./data_generated/ensemble.txt\",sep='\\t',header=None).iloc[:,0]\n",
    "df_genes.shape"
   ]
  },
  {
   "cell_type": "code",
   "execution_count": 40,
   "metadata": {},
   "outputs": [],
   "source": [
    "# create empty list to store expression data from files\n",
    "data_list = []\n",
    "# filling the Array files data in datos21 folder\n",
    "for file in sample.File_Name:\n",
    "    data_read = pd.read_csv(f'./data_external/melanoma_data/datos21/{file}', sep='\\t', \n",
    "                                  header=None, usecols=[1])\n",
    "    data_list.append(data_read.values)"
   ]
  },
  {
   "cell_type": "code",
   "execution_count": 41,
   "metadata": {},
   "outputs": [
    {
     "name": "stdout",
     "output_type": "stream",
     "text": [
      "(470, 60483)\n"
     ]
    }
   ],
   "source": [
    "# transform in a numpy array\n",
    "data_stored = np.concatenate(data_list, axis=1).T\n",
    "# sum 0.1 to avoid 0 divisions\n",
    "data_stored += 0.1\n",
    "print(data_stored.shape)"
   ]
  },
  {
   "cell_type": "code",
   "execution_count": 42,
   "metadata": {},
   "outputs": [
    {
     "data": {
      "text/html": [
       "<div>\n",
       "<style scoped>\n",
       "    .dataframe tbody tr th:only-of-type {\n",
       "        vertical-align: middle;\n",
       "    }\n",
       "\n",
       "    .dataframe tbody tr th {\n",
       "        vertical-align: top;\n",
       "    }\n",
       "\n",
       "    .dataframe thead th {\n",
       "        text-align: right;\n",
       "    }\n",
       "</style>\n",
       "<table border=\"1\" class=\"dataframe\">\n",
       "  <thead>\n",
       "    <tr style=\"text-align: right;\">\n",
       "      <th></th>\n",
       "      <th>ENSG00000242268</th>\n",
       "      <th>ENSG00000270112</th>\n",
       "      <th>ENSG00000167578</th>\n",
       "      <th>ENSG00000273842</th>\n",
       "      <th>ENSG00000078237</th>\n",
       "      <th>ENSG00000146083</th>\n",
       "      <th>ENSG00000225275</th>\n",
       "      <th>ENSG00000158486</th>\n",
       "      <th>ENSG00000198242</th>\n",
       "      <th>ENSG00000259883</th>\n",
       "      <th>...</th>\n",
       "      <th>ENSG00000238244</th>\n",
       "      <th>ENSG00000186115</th>\n",
       "      <th>ENSG00000216352</th>\n",
       "      <th>ENSG00000267117</th>\n",
       "      <th>ENSG00000273233</th>\n",
       "      <th>ENSG00000105063</th>\n",
       "      <th>ENSG00000231119</th>\n",
       "      <th>ENSG00000280861</th>\n",
       "      <th>ENSG00000123685</th>\n",
       "      <th>ENSG00000181518</th>\n",
       "    </tr>\n",
       "  </thead>\n",
       "  <tbody>\n",
       "    <tr>\n",
       "      <th>0</th>\n",
       "      <td>-0.667594</td>\n",
       "      <td>0.024722</td>\n",
       "      <td>-0.138410</td>\n",
       "      <td>-0.037171</td>\n",
       "      <td>0.120447</td>\n",
       "      <td>0.525614</td>\n",
       "      <td>-0.019284</td>\n",
       "      <td>-0.255458</td>\n",
       "      <td>0.711044</td>\n",
       "      <td>-0.513289</td>\n",
       "      <td>...</td>\n",
       "      <td>-4.805140e-15</td>\n",
       "      <td>0.569558</td>\n",
       "      <td>-0.015357</td>\n",
       "      <td>0.719398</td>\n",
       "      <td>0.337172</td>\n",
       "      <td>0.035513</td>\n",
       "      <td>0.041954</td>\n",
       "      <td>-4.805140e-15</td>\n",
       "      <td>0.673189</td>\n",
       "      <td>-0.010566</td>\n",
       "    </tr>\n",
       "    <tr>\n",
       "      <th>1</th>\n",
       "      <td>-0.667594</td>\n",
       "      <td>-0.067033</td>\n",
       "      <td>0.151962</td>\n",
       "      <td>-0.037171</td>\n",
       "      <td>-0.542366</td>\n",
       "      <td>-0.546840</td>\n",
       "      <td>-0.019284</td>\n",
       "      <td>-0.085034</td>\n",
       "      <td>0.442450</td>\n",
       "      <td>-0.513289</td>\n",
       "      <td>...</td>\n",
       "      <td>-4.805140e-15</td>\n",
       "      <td>-0.479669</td>\n",
       "      <td>-0.015357</td>\n",
       "      <td>-0.996845</td>\n",
       "      <td>-0.501789</td>\n",
       "      <td>-0.229711</td>\n",
       "      <td>0.262515</td>\n",
       "      <td>-4.805140e-15</td>\n",
       "      <td>-1.867977</td>\n",
       "      <td>-0.010566</td>\n",
       "    </tr>\n",
       "    <tr>\n",
       "      <th>2</th>\n",
       "      <td>-0.667594</td>\n",
       "      <td>-0.067033</td>\n",
       "      <td>-0.883102</td>\n",
       "      <td>-0.037171</td>\n",
       "      <td>0.833558</td>\n",
       "      <td>-1.604637</td>\n",
       "      <td>-0.019284</td>\n",
       "      <td>-0.372856</td>\n",
       "      <td>-0.929227</td>\n",
       "      <td>0.019839</td>\n",
       "      <td>...</td>\n",
       "      <td>-4.805140e-15</td>\n",
       "      <td>-0.479669</td>\n",
       "      <td>0.312919</td>\n",
       "      <td>-0.996845</td>\n",
       "      <td>-0.011669</td>\n",
       "      <td>0.563455</td>\n",
       "      <td>0.378923</td>\n",
       "      <td>-4.805140e-15</td>\n",
       "      <td>-0.811724</td>\n",
       "      <td>-0.010566</td>\n",
       "    </tr>\n",
       "    <tr>\n",
       "      <th>3</th>\n",
       "      <td>-0.667594</td>\n",
       "      <td>-0.025698</td>\n",
       "      <td>-1.964326</td>\n",
       "      <td>-0.037171</td>\n",
       "      <td>-0.030969</td>\n",
       "      <td>0.818633</td>\n",
       "      <td>-0.019284</td>\n",
       "      <td>0.085646</td>\n",
       "      <td>0.424491</td>\n",
       "      <td>-0.258813</td>\n",
       "      <td>...</td>\n",
       "      <td>-4.805140e-15</td>\n",
       "      <td>-0.412945</td>\n",
       "      <td>-0.015357</td>\n",
       "      <td>-0.253111</td>\n",
       "      <td>0.262264</td>\n",
       "      <td>-0.166382</td>\n",
       "      <td>-0.749621</td>\n",
       "      <td>-4.805140e-15</td>\n",
       "      <td>-0.224312</td>\n",
       "      <td>-0.010566</td>\n",
       "    </tr>\n",
       "    <tr>\n",
       "      <th>4</th>\n",
       "      <td>-0.667594</td>\n",
       "      <td>-0.067033</td>\n",
       "      <td>-0.292996</td>\n",
       "      <td>-0.037171</td>\n",
       "      <td>-0.001140</td>\n",
       "      <td>0.814253</td>\n",
       "      <td>-0.019284</td>\n",
       "      <td>1.121704</td>\n",
       "      <td>0.149756</td>\n",
       "      <td>0.294730</td>\n",
       "      <td>...</td>\n",
       "      <td>-4.805140e-15</td>\n",
       "      <td>-0.393684</td>\n",
       "      <td>-0.015357</td>\n",
       "      <td>0.462680</td>\n",
       "      <td>0.989708</td>\n",
       "      <td>-0.219318</td>\n",
       "      <td>0.910560</td>\n",
       "      <td>-4.805140e-15</td>\n",
       "      <td>0.468016</td>\n",
       "      <td>-0.010566</td>\n",
       "    </tr>\n",
       "  </tbody>\n",
       "</table>\n",
       "<p>5 rows × 60483 columns</p>\n",
       "</div>"
      ],
      "text/plain": [
       "0  ENSG00000242268  ENSG00000270112  ENSG00000167578  ENSG00000273842  \\\n",
       "0        -0.667594         0.024722        -0.138410        -0.037171   \n",
       "1        -0.667594        -0.067033         0.151962        -0.037171   \n",
       "2        -0.667594        -0.067033        -0.883102        -0.037171   \n",
       "3        -0.667594        -0.025698        -1.964326        -0.037171   \n",
       "4        -0.667594        -0.067033        -0.292996        -0.037171   \n",
       "\n",
       "0  ENSG00000078237  ENSG00000146083  ENSG00000225275  ENSG00000158486  \\\n",
       "0         0.120447         0.525614        -0.019284        -0.255458   \n",
       "1        -0.542366        -0.546840        -0.019284        -0.085034   \n",
       "2         0.833558        -1.604637        -0.019284        -0.372856   \n",
       "3        -0.030969         0.818633        -0.019284         0.085646   \n",
       "4        -0.001140         0.814253        -0.019284         1.121704   \n",
       "\n",
       "0  ENSG00000198242  ENSG00000259883  ...  ENSG00000238244  ENSG00000186115  \\\n",
       "0         0.711044        -0.513289  ...    -4.805140e-15         0.569558   \n",
       "1         0.442450        -0.513289  ...    -4.805140e-15        -0.479669   \n",
       "2        -0.929227         0.019839  ...    -4.805140e-15        -0.479669   \n",
       "3         0.424491        -0.258813  ...    -4.805140e-15        -0.412945   \n",
       "4         0.149756         0.294730  ...    -4.805140e-15        -0.393684   \n",
       "\n",
       "0  ENSG00000216352  ENSG00000267117  ENSG00000273233  ENSG00000105063  \\\n",
       "0        -0.015357         0.719398         0.337172         0.035513   \n",
       "1        -0.015357        -0.996845        -0.501789        -0.229711   \n",
       "2         0.312919        -0.996845        -0.011669         0.563455   \n",
       "3        -0.015357        -0.253111         0.262264        -0.166382   \n",
       "4        -0.015357         0.462680         0.989708        -0.219318   \n",
       "\n",
       "0  ENSG00000231119  ENSG00000280861  ENSG00000123685  ENSG00000181518  \n",
       "0         0.041954    -4.805140e-15         0.673189        -0.010566  \n",
       "1         0.262515    -4.805140e-15        -1.867977        -0.010566  \n",
       "2         0.378923    -4.805140e-15        -0.811724        -0.010566  \n",
       "3        -0.749621    -4.805140e-15        -0.224312        -0.010566  \n",
       "4         0.910560    -4.805140e-15         0.468016        -0.010566  \n",
       "\n",
       "[5 rows x 60483 columns]"
      ]
     },
     "execution_count": 42,
     "metadata": {},
     "output_type": "execute_result"
    }
   ],
   "source": [
    "# primary tumor samples\n",
    "primary = data_stored[sample.Sample_Type == 'Primary Tumor']\n",
    "# the geometric mean of primary tumor samples taken as reference\n",
    "ref = gmean(primary)\n",
    "\n",
    "data = data_stored/ref\n",
    "data = np.log2(data)\n",
    "\n",
    "df = pd.DataFrame(data=data,columns=df_genes)\n",
    "df.head()"
   ]
  },
  {
   "cell_type": "code",
   "execution_count": 44,
   "metadata": {},
   "outputs": [
    {
     "name": "stdout",
     "output_type": "stream",
     "text": [
      " Top Pathways: 2234 \n",
      " Annotated Genes: 10785\n"
     ]
    }
   ],
   "source": [
    "# Read the Top 28 pathways excel list\n",
    "pathways = pd.read_excel(\"./data_external/data_pathways/pathways_All_ordered.xlsx\",header=None)\n",
    "# Name the columns\n",
    "pathways.columns = [\"Ensemble\",\"Pathways\"]\n",
    "\n",
    "# Count pathways\n",
    "pathways_names = pd.unique(pathways.Pathways)\n",
    "# Count genes in pathways\n",
    "genes_annotated = pd.unique(pathways.Ensemble)\n",
    "\n",
    "# Print ranges\n",
    "print(\" Top Pathways:\",\n",
    "      pathways_names.shape[0],\"\\n\",\n",
    "      \"Annotated Genes:\",\n",
    "      genes_annotated.shape[0]\n",
    "      )"
   ]
  },
  {
   "cell_type": "code",
   "execution_count": 45,
   "metadata": {},
   "outputs": [],
   "source": [
    "# Genes in pathways\n",
    "genes_path = set(df_genes) & set(genes_annotated)\n",
    "\n",
    "# Pathways with annotated genes\n",
    "pathways_annotated = pathways.query('Ensemble in @genes_path')"
   ]
  },
  {
   "cell_type": "code",
   "execution_count": 67,
   "metadata": {},
   "outputs": [],
   "source": [
    "X = []\n",
    "for pathway in pathways_names:\n",
    "    # genes evaluated in pathway (variable to operate)\n",
    "    g_pathways = df[\n",
    "        pathways_annotated[pathways_annotated.Pathways == pathway].Ensemble\n",
    "    ]\n",
    "    # Ecuation above\n",
    "    X.append(np.sum(abs(g_pathways),axis=1)/g_pathways.shape[1])\n",
    "\n",
    "X = pd.DataFrame(data=X, columns=pathways_annotated.Pathways)\n",
    "X.shape"
   ]
  },
  {
   "cell_type": "code",
   "execution_count": null,
   "metadata": {},
   "outputs": [],
   "source": []
  }
 ],
 "metadata": {
  "kernelspec": {
   "display_name": "base",
   "language": "python",
   "name": "python3"
  },
  "language_info": {
   "codemirror_mode": {
    "name": "ipython",
    "version": 3
   },
   "file_extension": ".py",
   "mimetype": "text/x-python",
   "name": "python",
   "nbconvert_exporter": "python",
   "pygments_lexer": "ipython3",
   "version": "3.9.7 (default, Sep 16 2021, 13:09:58) \n[GCC 7.5.0]"
  },
  "orig_nbformat": 4,
  "vscode": {
   "interpreter": {
    "hash": "1b15b47e994a45b2c1c9c2019b348cb81bbb68780db9285c808c045d049d064a"
   }
  }
 },
 "nbformat": 4,
 "nbformat_minor": 2
}
