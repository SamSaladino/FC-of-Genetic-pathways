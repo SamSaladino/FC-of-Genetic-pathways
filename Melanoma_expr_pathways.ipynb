{
 "cells": [
  {
   "cell_type": "code",
   "execution_count": 3,
   "metadata": {},
   "outputs": [],
   "source": [
    "import os\n",
    "import re\n",
    "import numpy as np\n",
    "import pandas as pd\n",
    "from scipy.stats import gmean\n",
    "from sklearn.decomposition import PCA\n",
    "#Visualization\n",
    "import seaborn as sns\n",
    "import matplotlib.pyplot as plt\n",
    "import matplotlib.patches as mpatches"
   ]
  },
  {
   "cell_type": "code",
   "execution_count": 12,
   "metadata": {},
   "outputs": [
    {
     "name": "stdout",
     "output_type": "stream",
     "text": [
      "Metastatic       367\n",
      "Primary Tumor    103\n",
      "Name: Sample_Type, dtype: int64\n"
     ]
    }
   ],
   "source": [
    "sample_info = pd.read_csv(\"./data_external/melanoma_data/sample.csv\")\n",
    "sample_info.columns = ['File_Name', 'Case_ID','Sample_ID','Sample_Type']\n",
    "\n",
    "sample = sample_info.loc[~(\n",
    "    (sample_info.Sample_Type == 'Solid Tissue Normal') |\n",
    "    (sample_info.Sample_Type == 'Additional Metastatic')\n",
    "    )]\n",
    "\n",
    "print(sample.Sample_Type.value_counts())"
   ]
  },
  {
   "cell_type": "code",
   "execution_count": 15,
   "metadata": {},
   "outputs": [
    {
     "data": {
      "text/plain": [
       "(60483,)"
      ]
     },
     "execution_count": 15,
     "metadata": {},
     "output_type": "execute_result"
    }
   ],
   "source": [
    "df_genes = pd.read_csv(\"./data_generated/ensemble.txt\",sep='\\t',header=None).iloc[:,0]\n",
    "df_genes.shape"
   ]
  },
  {
   "cell_type": "code",
   "execution_count": 19,
   "metadata": {},
   "outputs": [],
   "source": [
    "# create empty list to store expression data from files\n",
    "data_store = []\n",
    "# filling the Array files data in datos21 folder\n",
    "for file in sample.File_Name:\n",
    "    data_store.append(pd.read_csv(f'./data_external/melanoma_data/datos21/{file}', sep='\\t', \n",
    "                                  header=None, usecols=[1]))\n",
    "# transform in a numpy array\n",
    "data_store = np.array(data_store)\n",
    "# sum 0.1 to avoid 0 divisions\n",
    "data_store += 0.1"
   ]
  },
  {
   "cell_type": "code",
   "execution_count": null,
   "metadata": {},
   "outputs": [],
   "source": []
  }
 ],
 "metadata": {
  "kernelspec": {
   "display_name": "base",
   "language": "python",
   "name": "python3"
  },
  "language_info": {
   "codemirror_mode": {
    "name": "ipython",
    "version": 3
   },
   "file_extension": ".py",
   "mimetype": "text/x-python",
   "name": "python",
   "nbconvert_exporter": "python",
   "pygments_lexer": "ipython3",
   "version": "3.9.7"
  },
  "orig_nbformat": 4,
  "vscode": {
   "interpreter": {
    "hash": "1b15b47e994a45b2c1c9c2019b348cb81bbb68780db9285c808c045d049d064a"
   }
  }
 },
 "nbformat": 4,
 "nbformat_minor": 2
}
