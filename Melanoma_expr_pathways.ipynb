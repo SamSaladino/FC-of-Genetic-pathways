{
 "cells": [
  {
   "attachments": {},
   "cell_type": "markdown",
   "metadata": {},
   "source": [
    "## Importing Libraries"
   ]
  },
  {
   "cell_type": "code",
   "execution_count": 9,
   "metadata": {},
   "outputs": [],
   "source": [
    "import os\n",
    "import re\n",
    "import numpy as np\n",
    "import pandas as pd\n",
    "from scipy.stats import gmean\n",
    "from sklearn.decomposition import PCA\n",
    "#Visualization\n",
    "import seaborn as sns\n",
    "import matplotlib.pyplot as plt\n",
    "import matplotlib.patches as mpatches\n",
    "#Local module\n",
    "import pathway_modules as pathw"
   ]
  },
  {
   "attachments": {},
   "cell_type": "markdown",
   "metadata": {},
   "source": [
    "## Reading all the data"
   ]
  },
  {
   "attachments": {},
   "cell_type": "markdown",
   "metadata": {},
   "source": [
    "#### Reading sample info and genes IDs\n",
    "* Editing columns for better call\n",
    "* Filtering samples in sample variable\n",
    "* Read the ensemble IDs file"
   ]
  },
  {
   "cell_type": "code",
   "execution_count": 10,
   "metadata": {},
   "outputs": [
    {
     "name": "stdout",
     "output_type": "stream",
     "text": [
      "Metastatic       367\n",
      "Primary Tumor    103\n",
      "Name: Sample_Type, dtype: int64\n",
      "Genes: 60483\n"
     ]
    }
   ],
   "source": [
    "sample_info = pd.read_csv(\"./data_external/melanoma_data/sample.csv\")\n",
    "sample_info.columns = ['File_Name', 'Case_ID','Sample_ID','Sample_Type']\n",
    "\n",
    "sample = sample_info.loc[~(\n",
    "    (sample_info.Sample_Type == 'Solid Tissue Normal') |\n",
    "    (sample_info.Sample_Type == 'Additional Metastatic')\n",
    "    )]\n",
    "\n",
    "ensembl_ids = pd.read_csv(\"./data_generated/ensemble.txt\",sep='\\t',header=None).iloc[:,0]\n",
    "\n",
    "print(sample.Sample_Type.value_counts())\n",
    "print('Genes:',ensembl_ids.shape[0])"
   ]
  },
  {
   "attachments": {},
   "cell_type": "markdown",
   "metadata": {},
   "source": [
    "#### Read the expression data sample files\n",
    "Create a list with all values "
   ]
  },
  {
   "cell_type": "code",
   "execution_count": 14,
   "metadata": {},
   "outputs": [],
   "source": [
    "# create empty list to store expression data from files\n",
    "data_list = []\n",
    "# filling the Array files data in datos21 folder\n",
    "for file in sample.File_Name:\n",
    "    data_read = pd.read_csv(f'./data_external/melanoma_data/datos21/{file}', sep='\\t', \n",
    "                                  header=None, usecols=[1])\n",
    "    data_list.append(data_read.values)\n",
    "\n",
    "# transform in a numpy array\n",
    "data_stored = np.concatenate(data_list, axis=1).T"
   ]
  },
  {
   "attachments": {},
   "cell_type": "markdown",
   "metadata": {},
   "source": [
    "### Transformations\n",
    "- Sum 0.1 to all values \n",
    "- Calculate the geometric mean of the reference(primary tumor sample in this case)\n",
    "- Calculate the $ Log2FC $\n",
    "- Store the data into df dataframe"
   ]
  },
  {
   "cell_type": "code",
   "execution_count": 13,
   "metadata": {},
   "outputs": [
    {
     "name": "stdout",
     "output_type": "stream",
     "text": [
      "<class 'pandas.core.frame.DataFrame'>\n",
      "RangeIndex: 470 entries, 0 to 469\n",
      "Columns: 60483 entries, ENSG00000242268 to ENSG00000181518\n",
      "dtypes: float64(60483)\n",
      "memory usage: 216.9 MB\n"
     ]
    }
   ],
   "source": [
    "# sum 0.1 to avoid 0 divisions\n",
    "data_stored += 0.1\n",
    "\n",
    "# primary tumor samples\n",
    "primary = data_stored[sample.Sample_Type == 'Primary Tumor']\n",
    "# the geometric mean of primary tumor samples taken as reference\n",
    "ref = gmean(primary)\n",
    "\n",
    "data = data_stored/ref\n",
    "data = np.log2(data)\n",
    "\n",
    "df = pd.DataFrame(data=data,columns=ensembl_ids)\n",
    "df.info()"
   ]
  },
  {
   "attachments": {},
   "cell_type": "markdown",
   "metadata": {},
   "source": [
    "## Pathways\n",
    "\n",
    "#### Load All 2233 pathways \n",
    "Get the data and filter it"
   ]
  },
  {
   "cell_type": "code",
   "execution_count": 17,
   "metadata": {},
   "outputs": [],
   "source": [
    "all_pathways = pathw.pathway_query(\n",
    "    \"./data_external/data_pathways/All_pathways.xlsx\",\n",
    "    ensembl_ids)"
   ]
  },
  {
   "attachments": {},
   "cell_type": "markdown",
   "metadata": {},
   "source": [
    "#### Get pathway expression matrix for all 2233 pathw"
   ]
  },
  {
   "cell_type": "code",
   "execution_count": 26,
   "metadata": {},
   "outputs": [
    {
     "name": "stdout",
     "output_type": "stream",
     "text": [
      "(2233, 470)\n"
     ]
    }
   ],
   "source": [
    "# Non repeated pathway names\n",
    "pathway_names = pd.unique(all_pathways.Pathways)\n",
    "\n",
    "# Pathway expression matrix\n",
    "P_matrix = pathw.pathway_expression(\n",
    "    expression_matrix=df,\n",
    "    pathway_data=all_pathways,\n",
    "    pathway_names=pathway_names)\n",
    "\n",
    "print(P_matrix.shape)"
   ]
  },
  {
   "attachments": {},
   "cell_type": "markdown",
   "metadata": {},
   "source": [
    "### Top 28 pathways\n",
    "1 - Load data"
   ]
  },
  {
   "cell_type": "code",
   "execution_count": 30,
   "metadata": {},
   "outputs": [],
   "source": [
    "top_pathways = pathw.pathway_query(\n",
    "    \"./data_external/data_pathways/Top28_pathways.xls\",\n",
    "    ensembl_ids)"
   ]
  },
  {
   "attachments": {},
   "cell_type": "markdown",
   "metadata": {},
   "source": [
    "2 - Get the expression matrix for 28 top pathways"
   ]
  },
  {
   "cell_type": "code",
   "execution_count": 31,
   "metadata": {},
   "outputs": [
    {
     "name": "stdout",
     "output_type": "stream",
     "text": [
      "(28, 470)\n"
     ]
    }
   ],
   "source": [
    "# Non repeated pathway names\n",
    "top_pathway_names = pd.unique(top_pathways.Pathways)\n",
    "\n",
    "# Pathway expression matrix\n",
    "P28_matrix = pathw.pathway_expression(\n",
    "    expression_matrix=df,\n",
    "    pathway_data=top_pathways,\n",
    "    pathway_names=top_pathway_names)\n",
    "\n",
    "print(P28_matrix.shape)"
   ]
  },
  {
   "cell_type": "code",
   "execution_count": 37,
   "metadata": {},
   "outputs": [
    {
     "data": {
      "text/plain": [
       "0         0.195288\n",
       "1         0.109916\n",
       "2         6.256238\n",
       "3         0.100000\n",
       "4         8.050429\n",
       "           ...    \n",
       "60478    25.073365\n",
       "60479     0.483336\n",
       "60480     0.100000\n",
       "60481     2.026386\n",
       "60482     0.100000\n",
       "Name: 1, Length: 60483, dtype: float64"
      ]
     },
     "execution_count": 37,
     "metadata": {},
     "output_type": "execute_result"
    }
   ],
   "source": [
    "normal_file = sample_info[sample_info.Sample_Type == 'Solid Tissue Normal'].File_Name.values[0]\n",
    "\n",
    "pd.read_csv(f'./data_external/melanoma_data/datos21/{normal_file}', sep='\\t', header=None)[1]+0.1"
   ]
  },
  {
   "cell_type": "code",
   "execution_count": 38,
   "metadata": {},
   "outputs": [],
   "source": [
    "normal_sample = pd.read_csv(f'./data_external/melanoma_data/datos21/{normal_file}', sep='\\t', \n",
    "                                  header=None, usecols=[1]) +0.1"
   ]
  },
  {
   "cell_type": "code",
   "execution_count": 39,
   "metadata": {},
   "outputs": [],
   "source": [
    "normal_mean = gmean(normal_sample[1])"
   ]
  },
  {
   "cell_type": "code",
   "execution_count": 40,
   "metadata": {},
   "outputs": [
    {
     "data": {
      "text/plain": [
       "0.33329688457145834"
      ]
     },
     "execution_count": 40,
     "metadata": {},
     "output_type": "execute_result"
    }
   ],
   "source": [
    "normal_mean"
   ]
  },
  {
   "cell_type": "code",
   "execution_count": null,
   "metadata": {},
   "outputs": [],
   "source": []
  }
 ],
 "metadata": {
  "kernelspec": {
   "display_name": "base",
   "language": "python",
   "name": "python3"
  },
  "language_info": {
   "codemirror_mode": {
    "name": "ipython",
    "version": 3
   },
   "file_extension": ".py",
   "mimetype": "text/x-python",
   "name": "python",
   "nbconvert_exporter": "python",
   "pygments_lexer": "ipython3",
   "version": "3.9.7"
  },
  "orig_nbformat": 4,
  "vscode": {
   "interpreter": {
    "hash": "1b15b47e994a45b2c1c9c2019b348cb81bbb68780db9285c808c045d049d064a"
   }
  }
 },
 "nbformat": 4,
 "nbformat_minor": 2
}
