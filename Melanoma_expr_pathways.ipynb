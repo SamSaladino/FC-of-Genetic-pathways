{
 "cells": [
  {
   "attachments": {},
   "cell_type": "markdown",
   "metadata": {},
   "source": [
    "## Importing Libraries"
   ]
  },
  {
   "cell_type": "code",
   "execution_count": 80,
   "metadata": {},
   "outputs": [],
   "source": [
    "import os\n",
    "import re\n",
    "import numpy as np\n",
    "import pandas as pd\n",
    "from scipy.stats import gmean\n",
    "from sklearn.decomposition import PCA\n",
    "#Visualization\n",
    "import seaborn as sns\n",
    "import matplotlib.pyplot as plt\n",
    "import matplotlib.patches as mpatches\n",
    "#Local module\n",
    "import pathway_modules as pathw"
   ]
  },
  {
   "attachments": {},
   "cell_type": "markdown",
   "metadata": {},
   "source": [
    "## Reading all the data"
   ]
  },
  {
   "attachments": {},
   "cell_type": "markdown",
   "metadata": {},
   "source": [
    "#### Reading sample info and genes IDs\n",
    "* Editing columns for better call\n",
    "* Filtering samples in sample variable\n",
    "* Read the ensemble IDs file"
   ]
  },
  {
   "cell_type": "code",
   "execution_count": 81,
   "metadata": {},
   "outputs": [
    {
     "name": "stdout",
     "output_type": "stream",
     "text": [
      "Metastatic             367\n",
      "Primary Tumor          103\n",
      "Solid Tissue Normal      1\n",
      "Name: Sample_Type, dtype: int64\n",
      "Genes: 60483\n"
     ]
    }
   ],
   "source": [
    "sample_info = pd.read_csv(\"./data_external/melanoma_data/sample.csv\")\n",
    "sample_info.columns = ['File_Name', 'Case_ID','Sample_ID','Sample_Type']\n",
    "\n",
    "sample = sample_info.loc[~\n",
    "    (sample_info.Sample_Type == 'Additional Metastatic')\n",
    "    ]\n",
    "\n",
    "ensembl_ids = pd.read_csv(\"./data_generated/ensemble.txt\",\n",
    "                          sep='\\t',header=None).iloc[:,0]\n",
    "\n",
    "print(sample.Sample_Type.value_counts())\n",
    "print('Genes:',ensembl_ids.shape[0])"
   ]
  },
  {
   "attachments": {},
   "cell_type": "markdown",
   "metadata": {},
   "source": [
    "#### Read the expression data sample files\n",
    "Create a list with all values "
   ]
  },
  {
   "cell_type": "code",
   "execution_count": 82,
   "metadata": {},
   "outputs": [],
   "source": [
    "# create empty list to store expression data from files\n",
    "data_list = []\n",
    "# filling the Array files data in datos21 folder\n",
    "for file in sample.File_Name:\n",
    "    data_read = pd.read_csv(f'./data_external/melanoma_data/datos21/{file}', sep='\\t', \n",
    "                                  header=None, usecols=[1])\n",
    "    data_list.append(data_read.values)\n",
    "\n",
    "# transform in a numpy array\n",
    "data_stored = np.concatenate(data_list, axis=1).T"
   ]
  },
  {
   "attachments": {},
   "cell_type": "markdown",
   "metadata": {},
   "source": [
    "### Transformations\n",
    "- Sum 0.1 to all values \n",
    "- Get the mean values of samples"
   ]
  },
  {
   "cell_type": "code",
   "execution_count": 83,
   "metadata": {},
   "outputs": [],
   "source": [
    "# sum 0.1 to avoid 0 divisions\n",
    "data_stored += 0.1\n",
    "# The normal sample\n",
    "normalSKCM = data_stored[sample.Sample_Type == 'Solid Tissue Normal']\n",
    "# Geometric mean of the primary tumor samples\n",
    "tumorSKCM = gmean(data_stored[sample.Sample_Type == 'Primary Tumor'])\n",
    "# Geometric mean metastatic samples\n",
    "metSKCM = gmean(data_stored[sample.Sample_Type == 'Metastatic'])"
   ]
  },
  {
   "attachments": {},
   "cell_type": "markdown",
   "metadata": {},
   "source": [
    "### Diferenttial expression with normal and primary as references\n",
    "$$e_{tumor}/e_{normal}, e_{metastatic}/e_{tumor}$$\n",
    "and then create a dataframe with the logFC of differential expressed values\n",
    "$$Log2(e/e_{ref})$$"
   ]
  },
  {
   "cell_type": "code",
   "execution_count": 90,
   "metadata": {},
   "outputs": [
    {
     "name": "stdout",
     "output_type": "stream",
     "text": [
      "(60483,) (60483,)\n",
      "(60483, 2)\n"
     ]
    }
   ],
   "source": [
    "# Diff Expression\n",
    "et_en = (tumorSKCM/normalSKCM.T[:,0])\n",
    "em_et = (metSKCM/tumorSKCM)\n",
    "# Create DataFrame\n",
    "data = np.concatenate((et_en.reshape(-1, 1),em_et.reshape(-1, 1)), \n",
    "                      axis=1)\n",
    "data = pd.DataFrame(data=np.log2(data),index=ensembl_ids,\n",
    "                    columns=['NORMALtoTUMOR','TUMORtoMETASTATIC'])\n",
    "\n",
    "print(et_en.shape, em_et.shape)\n",
    "print(data.shape)"
   ]
  },
  {
   "attachments": {},
   "cell_type": "markdown",
   "metadata": {},
   "source": [
    "## Export means and references values\n",
    "\n",
    "#### Export to txt files"
   ]
  },
  {
   "cell_type": "code",
   "execution_count": 85,
   "metadata": {},
   "outputs": [],
   "source": [
    "np.savetxt('./data_generated/melanoma/normalSKCM.txt', normalSKCM)\n",
    "np.savetxt('./data_generated/melanoma/primarySKCM.txt', tumorSKCM)\n",
    "np.savetxt('./data_generated/melanoma/metSKCM.txt', metSKCM)"
   ]
  },
  {
   "attachments": {},
   "cell_type": "markdown",
   "metadata": {},
   "source": [
    "## Pathways\n",
    "\n",
    "#### Load All 2233 pathways \n",
    "Get the data and filter it"
   ]
  },
  {
   "cell_type": "code",
   "execution_count": 86,
   "metadata": {},
   "outputs": [],
   "source": [
    "all_pathways = pathw.pathway_query(\n",
    "    \"./data_external/data_pathways/All_pathways.xlsx\",\n",
    "    ensembl_ids)"
   ]
  },
  {
   "attachments": {},
   "cell_type": "markdown",
   "metadata": {},
   "source": [
    "#### Get pathway expression matrix for all 2233 pathw"
   ]
  },
  {
   "cell_type": "code",
   "execution_count": 87,
   "metadata": {},
   "outputs": [
    {
     "name": "stdout",
     "output_type": "stream",
     "text": [
      "(2233, 2)\n"
     ]
    }
   ],
   "source": [
    "# Non repeated pathway names\n",
    "pathway_names = pd.unique(all_pathways.Pathways)\n",
    "\n",
    "# Pathway expression matrix\n",
    "P_matrix = pathw.pathway_expression(\n",
    "    expression_matrix=data,\n",
    "    pathway_data=all_pathways,\n",
    "    pathway_names=pathway_names)\n",
    "\n",
    "print(P_matrix.shape)"
   ]
  },
  {
   "attachments": {},
   "cell_type": "markdown",
   "metadata": {},
   "source": [
    "### Top 28 pathways\n",
    "1 - Load data"
   ]
  },
  {
   "cell_type": "code",
   "execution_count": 98,
   "metadata": {},
   "outputs": [],
   "source": [
    "top_pathways = pathw.pathway_query(\n",
    "    \"./data_external/data_pathways/Top28_pathways.xls\",\n",
    "    ensembl_ids)"
   ]
  },
  {
   "attachments": {},
   "cell_type": "markdown",
   "metadata": {},
   "source": [
    "2 - Get the expression matrix for 28 top pathways"
   ]
  },
  {
   "cell_type": "code",
   "execution_count": 89,
   "metadata": {},
   "outputs": [
    {
     "name": "stdout",
     "output_type": "stream",
     "text": [
      "(28, 2)\n"
     ]
    }
   ],
   "source": [
    "# Non repeated pathway names\n",
    "top_pathway_names = pd.unique(top_pathways.Pathways)\n",
    "\n",
    "# Pathway expression matrix\n",
    "P28_matrix = pathw.pathway_expression(\n",
    "    expression_matrix=data,\n",
    "    pathway_data=top_pathways,\n",
    "    pathway_names=top_pathway_names)\n",
    "\n",
    "print(P28_matrix.shape)"
   ]
  },
  {
   "cell_type": "code",
   "execution_count": 114,
   "metadata": {},
   "outputs": [
    {
     "data": {
      "text/plain": [
       "array(['ENSG00000005893', 'ENSG00000023287', 'ENSG00000025039', ...,\n",
       "       'ENSG00000261701', 'ENSG00000265107', 'ENSG00000274611'],\n",
       "      dtype=object)"
      ]
     },
     "execution_count": 114,
     "metadata": {},
     "output_type": "execute_result"
    }
   ],
   "source": [
    "T28path_genes = pd.unique(top_pathways.Ensemble)\n",
    "#tumorSKCM[T28path_genes]\n",
    "T28path_genes"
   ]
  },
  {
   "attachments": {},
   "cell_type": "markdown",
   "metadata": {},
   "source": [
    "## Graphics"
   ]
  },
  {
   "cell_type": "code",
   "execution_count": 107,
   "metadata": {},
   "outputs": [
    {
     "data": {
      "text/plain": [
       "<matplotlib.lines.Line2D at 0x7fb748c260d0>"
      ]
     },
     "execution_count": 107,
     "metadata": {},
     "output_type": "execute_result"
    },
    {
     "data": {
      "image/png": "[encoded data removed]",
      "text/plain": [
       "<Figure size 720x576 with 1 Axes>"
      ]
     },
     "metadata": {
      "needs_background": "light"
     },
     "output_type": "display_data"
    }
   ],
   "source": [
    "plt.figure(figsize=(10,8))\n",
    "plt.title('Primary Melanoma')\n",
    "\n",
    "plt.bar(np.arange(1,29),P28_matrix.NORMALtoTUMOR)\n",
    "plt.axhline(abs(data.NORMALtoTUMOR.loc[T28path_genes].mean()),color='red',linestyle='dashed')"
   ]
  },
  {
   "cell_type": "code",
   "execution_count": 93,
   "metadata": {},
   "outputs": [
    {
     "data": {
      "text/plain": [
       "<BarContainer object of 28 artists>"
      ]
     },
     "execution_count": 93,
     "metadata": {},
     "output_type": "execute_result"
    },
    {
     "data": {
      "image/png": "[encoded data removed]",
      "text/plain": [
       "<Figure size 720x576 with 1 Axes>"
      ]
     },
     "metadata": {
      "needs_background": "light"
     },
     "output_type": "display_data"
    }
   ],
   "source": [
    "plt.figure(figsize=(10,8))\n",
    "plt.title('Metastatic Melanoma')\n",
    "plt.bar(np.arange(1,29),P28_matrix.TUMORtoMETASTATIC)"
   ]
  },
  {
   "cell_type": "code",
   "execution_count": null,
   "metadata": {},
   "outputs": [],
   "source": []
  }
 ],
 "metadata": {
  "kernelspec": {
   "display_name": "base",
   "language": "python",
   "name": "python3"
  },
  "language_info": {
   "codemirror_mode": {
    "name": "ipython",
    "version": 3
   },
   "file_extension": ".py",
   "mimetype": "text/x-python",
   "name": "python",
   "nbconvert_exporter": "python",
   "pygments_lexer": "ipython3",
   "version": "3.9.7"
  },
  "orig_nbformat": 4,
  "vscode": {
   "interpreter": {
    "hash": "1b15b47e994a45b2c1c9c2019b348cb81bbb68780db9285c808c045d049d064a"
   }
  }
 },
 "nbformat": 4,
 "nbformat_minor": 2
}
