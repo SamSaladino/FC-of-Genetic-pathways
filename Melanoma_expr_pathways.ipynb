{
 "cells": [
  {
   "cell_type": "code",
   "execution_count": 1,
   "metadata": {},
   "outputs": [],
   "source": [
    "import os\n",
    "import re\n",
    "import numpy as np\n",
    "import pandas as pd\n",
    "from scipy.stats import gmean\n",
    "from sklearn.decomposition import PCA\n",
    "#Visualization\n",
    "import seaborn as sns\n",
    "import matplotlib.pyplot as plt\n",
    "import matplotlib.patches as mpatches"
   ]
  },
  {
   "cell_type": "code",
   "execution_count": 2,
   "metadata": {},
   "outputs": [
    {
     "name": "stdout",
     "output_type": "stream",
     "text": [
      "Metastatic       367\n",
      "Primary Tumor    103\n",
      "Name: Sample_Type, dtype: int64\n"
     ]
    }
   ],
   "source": [
    "sample_info = pd.read_csv(\"./data_external/melanoma_data/sample.csv\")\n",
    "sample_info.columns = ['File_Name', 'Case_ID','Sample_ID','Sample_Type']\n",
    "\n",
    "sample = sample_info.loc[~(\n",
    "    (sample_info.Sample_Type == 'Solid Tissue Normal') |\n",
    "    (sample_info.Sample_Type == 'Additional Metastatic')\n",
    "    )]\n",
    "\n",
    "print(sample.Sample_Type.value_counts())"
   ]
  },
  {
   "cell_type": "code",
   "execution_count": 3,
   "metadata": {},
   "outputs": [
    {
     "data": {
      "text/plain": [
       "(60483,)"
      ]
     },
     "execution_count": 3,
     "metadata": {},
     "output_type": "execute_result"
    }
   ],
   "source": [
    "df_genes = pd.read_csv(\"./data_generated/ensemble.txt\",sep='\\t',header=None).iloc[:,0]\n",
    "df_genes.shape"
   ]
  },
  {
   "cell_type": "code",
   "execution_count": 4,
   "metadata": {},
   "outputs": [],
   "source": [
    "# create empty list to store expression data from files\n",
    "data_list = []\n",
    "# filling the Array files data in datos21 folder\n",
    "for file in sample.File_Name:\n",
    "    data_read = pd.read_csv(f'./data_external/melanoma_data/datos21/{file}', sep='\\t', \n",
    "                                  header=None, usecols=[1])\n",
    "    data_list.append(data_read.values)"
   ]
  },
  {
   "cell_type": "code",
   "execution_count": 5,
   "metadata": {},
   "outputs": [
    {
     "name": "stdout",
     "output_type": "stream",
     "text": [
      "(470, 60483)\n"
     ]
    }
   ],
   "source": [
    "# transform in a numpy array\n",
    "data_stored = np.concatenate(data_list, axis=1).T\n",
    "# sum 0.1 to avoid 0 divisions\n",
    "data_stored += 0.1\n",
    "print(data_stored.shape)"
   ]
  },
  {
   "cell_type": "code",
   "execution_count": 6,
   "metadata": {},
   "outputs": [
    {
     "data": {
      "text/html": [
       "<div>\n",
       "<style scoped>\n",
       "    .dataframe tbody tr th:only-of-type {\n",
       "        vertical-align: middle;\n",
       "    }\n",
       "\n",
       "    .dataframe tbody tr th {\n",
       "        vertical-align: top;\n",
       "    }\n",
       "\n",
       "    .dataframe thead th {\n",
       "        text-align: right;\n",
       "    }\n",
       "</style>\n",
       "<table border=\"1\" class=\"dataframe\">\n",
       "  <thead>\n",
       "    <tr style=\"text-align: right;\">\n",
       "      <th></th>\n",
       "      <th>ENSG00000242268</th>\n",
       "      <th>ENSG00000270112</th>\n",
       "      <th>ENSG00000167578</th>\n",
       "      <th>ENSG00000273842</th>\n",
       "      <th>ENSG00000078237</th>\n",
       "      <th>ENSG00000146083</th>\n",
       "      <th>ENSG00000225275</th>\n",
       "      <th>ENSG00000158486</th>\n",
       "      <th>ENSG00000198242</th>\n",
       "      <th>ENSG00000259883</th>\n",
       "      <th>...</th>\n",
       "      <th>ENSG00000238244</th>\n",
       "      <th>ENSG00000186115</th>\n",
       "      <th>ENSG00000216352</th>\n",
       "      <th>ENSG00000267117</th>\n",
       "      <th>ENSG00000273233</th>\n",
       "      <th>ENSG00000105063</th>\n",
       "      <th>ENSG00000231119</th>\n",
       "      <th>ENSG00000280861</th>\n",
       "      <th>ENSG00000123685</th>\n",
       "      <th>ENSG00000181518</th>\n",
       "    </tr>\n",
       "  </thead>\n",
       "  <tbody>\n",
       "    <tr>\n",
       "      <th>0</th>\n",
       "      <td>-0.667594</td>\n",
       "      <td>0.024722</td>\n",
       "      <td>-0.138410</td>\n",
       "      <td>-0.037171</td>\n",
       "      <td>0.120447</td>\n",
       "      <td>0.525614</td>\n",
       "      <td>-0.019284</td>\n",
       "      <td>-0.255458</td>\n",
       "      <td>0.711044</td>\n",
       "      <td>-0.513289</td>\n",
       "      <td>...</td>\n",
       "      <td>-4.805140e-15</td>\n",
       "      <td>0.569558</td>\n",
       "      <td>-0.015357</td>\n",
       "      <td>0.719398</td>\n",
       "      <td>0.337172</td>\n",
       "      <td>0.035513</td>\n",
       "      <td>0.041954</td>\n",
       "      <td>-4.805140e-15</td>\n",
       "      <td>0.673189</td>\n",
       "      <td>-0.010566</td>\n",
       "    </tr>\n",
       "    <tr>\n",
       "      <th>1</th>\n",
       "      <td>-0.667594</td>\n",
       "      <td>-0.067033</td>\n",
       "      <td>0.151962</td>\n",
       "      <td>-0.037171</td>\n",
       "      <td>-0.542366</td>\n",
       "      <td>-0.546840</td>\n",
       "      <td>-0.019284</td>\n",
       "      <td>-0.085034</td>\n",
       "      <td>0.442450</td>\n",
       "      <td>-0.513289</td>\n",
       "      <td>...</td>\n",
       "      <td>-4.805140e-15</td>\n",
       "      <td>-0.479669</td>\n",
       "      <td>-0.015357</td>\n",
       "      <td>-0.996845</td>\n",
       "      <td>-0.501789</td>\n",
       "      <td>-0.229711</td>\n",
       "      <td>0.262515</td>\n",
       "      <td>-4.805140e-15</td>\n",
       "      <td>-1.867977</td>\n",
       "      <td>-0.010566</td>\n",
       "    </tr>\n",
       "    <tr>\n",
       "      <th>2</th>\n",
       "      <td>-0.667594</td>\n",
       "      <td>-0.067033</td>\n",
       "      <td>-0.883102</td>\n",
       "      <td>-0.037171</td>\n",
       "      <td>0.833558</td>\n",
       "      <td>-1.604637</td>\n",
       "      <td>-0.019284</td>\n",
       "      <td>-0.372856</td>\n",
       "      <td>-0.929227</td>\n",
       "      <td>0.019839</td>\n",
       "      <td>...</td>\n",
       "      <td>-4.805140e-15</td>\n",
       "      <td>-0.479669</td>\n",
       "      <td>0.312919</td>\n",
       "      <td>-0.996845</td>\n",
       "      <td>-0.011669</td>\n",
       "      <td>0.563455</td>\n",
       "      <td>0.378923</td>\n",
       "      <td>-4.805140e-15</td>\n",
       "      <td>-0.811724</td>\n",
       "      <td>-0.010566</td>\n",
       "    </tr>\n",
       "    <tr>\n",
       "      <th>3</th>\n",
       "      <td>-0.667594</td>\n",
       "      <td>-0.025698</td>\n",
       "      <td>-1.964326</td>\n",
       "      <td>-0.037171</td>\n",
       "      <td>-0.030969</td>\n",
       "      <td>0.818633</td>\n",
       "      <td>-0.019284</td>\n",
       "      <td>0.085646</td>\n",
       "      <td>0.424491</td>\n",
       "      <td>-0.258813</td>\n",
       "      <td>...</td>\n",
       "      <td>-4.805140e-15</td>\n",
       "      <td>-0.412945</td>\n",
       "      <td>-0.015357</td>\n",
       "      <td>-0.253111</td>\n",
       "      <td>0.262264</td>\n",
       "      <td>-0.166382</td>\n",
       "      <td>-0.749621</td>\n",
       "      <td>-4.805140e-15</td>\n",
       "      <td>-0.224312</td>\n",
       "      <td>-0.010566</td>\n",
       "    </tr>\n",
       "    <tr>\n",
       "      <th>4</th>\n",
       "      <td>-0.667594</td>\n",
       "      <td>-0.067033</td>\n",
       "      <td>-0.292996</td>\n",
       "      <td>-0.037171</td>\n",
       "      <td>-0.001140</td>\n",
       "      <td>0.814253</td>\n",
       "      <td>-0.019284</td>\n",
       "      <td>1.121704</td>\n",
       "      <td>0.149756</td>\n",
       "      <td>0.294730</td>\n",
       "      <td>...</td>\n",
       "      <td>-4.805140e-15</td>\n",
       "      <td>-0.393684</td>\n",
       "      <td>-0.015357</td>\n",
       "      <td>0.462680</td>\n",
       "      <td>0.989708</td>\n",
       "      <td>-0.219318</td>\n",
       "      <td>0.910560</td>\n",
       "      <td>-4.805140e-15</td>\n",
       "      <td>0.468016</td>\n",
       "      <td>-0.010566</td>\n",
       "    </tr>\n",
       "  </tbody>\n",
       "</table>\n",
       "<p>5 rows × 60483 columns</p>\n",
       "</div>"
      ],
      "text/plain": [
       "0  ENSG00000242268  ENSG00000270112  ENSG00000167578  ENSG00000273842  \\\n",
       "0        -0.667594         0.024722        -0.138410        -0.037171   \n",
       "1        -0.667594        -0.067033         0.151962        -0.037171   \n",
       "2        -0.667594        -0.067033        -0.883102        -0.037171   \n",
       "3        -0.667594        -0.025698        -1.964326        -0.037171   \n",
       "4        -0.667594        -0.067033        -0.292996        -0.037171   \n",
       "\n",
       "0  ENSG00000078237  ENSG00000146083  ENSG00000225275  ENSG00000158486  \\\n",
       "0         0.120447         0.525614        -0.019284        -0.255458   \n",
       "1        -0.542366        -0.546840        -0.019284        -0.085034   \n",
       "2         0.833558        -1.604637        -0.019284        -0.372856   \n",
       "3        -0.030969         0.818633        -0.019284         0.085646   \n",
       "4        -0.001140         0.814253        -0.019284         1.121704   \n",
       "\n",
       "0  ENSG00000198242  ENSG00000259883  ...  ENSG00000238244  ENSG00000186115  \\\n",
       "0         0.711044        -0.513289  ...    -4.805140e-15         0.569558   \n",
       "1         0.442450        -0.513289  ...    -4.805140e-15        -0.479669   \n",
       "2        -0.929227         0.019839  ...    -4.805140e-15        -0.479669   \n",
       "3         0.424491        -0.258813  ...    -4.805140e-15        -0.412945   \n",
       "4         0.149756         0.294730  ...    -4.805140e-15        -0.393684   \n",
       "\n",
       "0  ENSG00000216352  ENSG00000267117  ENSG00000273233  ENSG00000105063  \\\n",
       "0        -0.015357         0.719398         0.337172         0.035513   \n",
       "1        -0.015357        -0.996845        -0.501789        -0.229711   \n",
       "2         0.312919        -0.996845        -0.011669         0.563455   \n",
       "3        -0.015357        -0.253111         0.262264        -0.166382   \n",
       "4        -0.015357         0.462680         0.989708        -0.219318   \n",
       "\n",
       "0  ENSG00000231119  ENSG00000280861  ENSG00000123685  ENSG00000181518  \n",
       "0         0.041954    -4.805140e-15         0.673189        -0.010566  \n",
       "1         0.262515    -4.805140e-15        -1.867977        -0.010566  \n",
       "2         0.378923    -4.805140e-15        -0.811724        -0.010566  \n",
       "3        -0.749621    -4.805140e-15        -0.224312        -0.010566  \n",
       "4         0.910560    -4.805140e-15         0.468016        -0.010566  \n",
       "\n",
       "[5 rows x 60483 columns]"
      ]
     },
     "execution_count": 6,
     "metadata": {},
     "output_type": "execute_result"
    }
   ],
   "source": [
    "# primary tumor samples\n",
    "primary = data_stored[sample.Sample_Type == 'Primary Tumor']\n",
    "# the geometric mean of primary tumor samples taken as reference\n",
    "ref = gmean(primary)\n",
    "\n",
    "data = data_stored/ref\n",
    "data = np.log2(data)\n",
    "\n",
    "df = pd.DataFrame(data=data,columns=df_genes)\n",
    "df.head()"
   ]
  },
  {
   "cell_type": "code",
   "execution_count": 7,
   "metadata": {},
   "outputs": [
    {
     "name": "stdout",
     "output_type": "stream",
     "text": [
      " Top Pathways: 2234 \n",
      " Annotated Genes: 10785\n"
     ]
    }
   ],
   "source": [
    "# Read the Top 28 pathways excel list\n",
    "pathways = pd.read_excel(\"./data_external/data_pathways/pathways_All_ordered.xlsx\",header=None)\n",
    "# Name the columns\n",
    "pathways.columns = [\"Ensemble\",\"Pathways\"]\n",
    "\n",
    "# Count pathways\n",
    "pathways_names = pd.unique(pathways.Pathways)\n",
    "# Count genes in pathways\n",
    "genes_annotated = pd.unique(pathways.Ensemble)\n",
    "\n",
    "# Print ranges\n",
    "print(\" Top Pathways:\",\n",
    "      pathways_names.shape[0],\"\\n\",\n",
    "      \"Annotated Genes:\",\n",
    "      genes_annotated.shape[0]\n",
    "      )"
   ]
  },
  {
   "cell_type": "code",
   "execution_count": 8,
   "metadata": {},
   "outputs": [],
   "source": [
    "# Genes in pathways\n",
    "genes_path = set(df_genes) & set(genes_annotated)\n",
    "\n",
    "# Pathways with annotated genes\n",
    "pathways_annotated = pathways.query('Ensemble in @genes_path')"
   ]
  },
  {
   "cell_type": "code",
   "execution_count": 9,
   "metadata": {},
   "outputs": [
    {
     "data": {
      "text/plain": [
       "(2234, 2234)"
      ]
     },
     "execution_count": 9,
     "metadata": {},
     "output_type": "execute_result"
    }
   ],
   "source": [
    "X = []\n",
    "for pathway in pathways_names:\n",
    "    # genes evaluated in pathway (variable to operate)\n",
    "    g_pathways = df[\n",
    "        pathways_annotated[pathways_annotated.Pathways == pathway].Ensemble\n",
    "    ]\n",
    "    # Ecuation above\n",
    "    X.append(np.sum(abs(g_pathways),axis=1)/g_pathways.shape[1])\n",
    "\n",
    "X = pd.DataFrame(data=X, columns=pathways_names)\n",
    "X.shape"
   ]
  },
  {
   "cell_type": "code",
   "execution_count": 10,
   "metadata": {},
   "outputs": [
    {
     "data": {
      "text/plain": [
       "'7b98f1f0-ec44-4414-8e1c-0d29a386e45c.FPKM.txt'"
      ]
     },
     "execution_count": 10,
     "metadata": {},
     "output_type": "execute_result"
    }
   ],
   "source": [
    "normal_file = sample_info[sample_info.Sample_Type == 'Solid Tissue Normal'].File_Name.values[0]\n",
    "normal_file"
   ]
  },
  {
   "cell_type": "code",
   "execution_count": 11,
   "metadata": {},
   "outputs": [],
   "source": [
    "normal_sample = pd.read_csv(f'./data_external/melanoma_data/datos21/{normal_file}', sep='\\t', \n",
    "                                  header=None, usecols=[1]) +0.1"
   ]
  },
  {
   "cell_type": "code",
   "execution_count": 12,
   "metadata": {},
   "outputs": [],
   "source": [
    "normal_mean = gmean(normal_sample[1])"
   ]
  },
  {
   "cell_type": "code",
   "execution_count": 13,
   "metadata": {},
   "outputs": [],
   "source": [
    "import pandas as pd\n",
    "import numpy as np\n",
    "from pathway_modules import PathwayAnalyzer"
   ]
  },
  {
   "cell_type": "code",
   "execution_count": 31,
   "metadata": {},
   "outputs": [],
   "source": [
    "class PathwayAnalyzer:\n",
    "    def __init__(self, path, ensemble_ids):\n",
    "        self.pathways = pd.read_excel(path, header=None)\n",
    "        self.pathways.columns = [\"Ensemble\", \"Pathways\"]\n",
    "        self.pathway_names = pd.unique(self.pathways.Pathways)\n",
    "        self.ensemble_ids = ensemble_ids\n",
    "\n",
    "    def pathways_query(self):\n",
    "        genes_annotated = pd.unique(self.pathways.Ensemble)\n",
    "        genes_path = set(self.ensemble_ids) & set(genes_annotated)\n",
    "        return self.pathways.query('Ensemble in @genes_path')\n",
    "    \n",
    "    def calculate_matrix(self, data_frame, col=False, col_name=None):\n",
    "        X = []\n",
    "        for p in self.pathway_names:\n",
    "            g_pathways = self.pathways_query(self.pathways[self.pathways.Pathways == p].Ensemble)\n",
    "            # Modify the following calculation as needed\n",
    "            matrix_values = np.sum(abs(data_frame[g_pathways]), axis=1) / g_pathways.shape[1]\n",
    "            X.append(matrix_values)\n",
    "        \n",
    "        if col:\n",
    "            return pd.DataFrame(data=X, columns=col_name, index=self.pathway_names)\n",
    "        else:\n",
    "            return pd.DataFrame(data=X, index=self.pathway_names)\n",
    "\n",
    "# Usage\n",
    "#pathway_analyzer = PathwayAnalyzer('./data_external/data_pathways/pathways2_sorted.xls')\n",
    "#ensemble_ids = df_genes.values\n",
    "#data_frame = df  # Provide your data frame here\n",
    "#result_matrix = pathway_analyzer.calculate_matrix(df)\n",
    "#print(result_matrix)"
   ]
  },
  {
   "cell_type": "code",
   "execution_count": 32,
   "metadata": {},
   "outputs": [],
   "source": [
    "pa = PathwayAnalyzer('./data_external/data_pathways/pathways2_sorted.xls',ensemble_ids=df_genes)"
   ]
  },
  {
   "cell_type": "code",
   "execution_count": 33,
   "metadata": {},
   "outputs": [
    {
     "ename": "TypeError",
     "evalue": "pathways_query() takes 1 positional argument but 2 were given",
     "output_type": "error",
     "traceback": [
      "\u001b[0;31m---------------------------------------------------------------------------\u001b[0m",
      "\u001b[0;31mTypeError\u001b[0m                                 Traceback (most recent call last)",
      "\u001b[0;32m/tmp/ipykernel_2862/3896781935.py\u001b[0m in \u001b[0;36m<module>\u001b[0;34m\u001b[0m\n\u001b[0;32m----> 1\u001b[0;31m \u001b[0mpa\u001b[0m\u001b[0;34m.\u001b[0m\u001b[0mcalculate_matrix\u001b[0m\u001b[0;34m(\u001b[0m\u001b[0mdf\u001b[0m\u001b[0;34m)\u001b[0m\u001b[0;34m\u001b[0m\u001b[0;34m\u001b[0m\u001b[0m\n\u001b[0m",
      "\u001b[0;32m/tmp/ipykernel_2862/281483900.py\u001b[0m in \u001b[0;36mcalculate_matrix\u001b[0;34m(self, data_frame, col, col_name)\u001b[0m\n\u001b[1;32m     14\u001b[0m         \u001b[0mX\u001b[0m \u001b[0;34m=\u001b[0m \u001b[0;34m[\u001b[0m\u001b[0;34m]\u001b[0m\u001b[0;34m\u001b[0m\u001b[0;34m\u001b[0m\u001b[0m\n\u001b[1;32m     15\u001b[0m         \u001b[0;32mfor\u001b[0m \u001b[0mp\u001b[0m \u001b[0;32min\u001b[0m \u001b[0mself\u001b[0m\u001b[0;34m.\u001b[0m\u001b[0mpathway_names\u001b[0m\u001b[0;34m:\u001b[0m\u001b[0;34m\u001b[0m\u001b[0;34m\u001b[0m\u001b[0m\n\u001b[0;32m---> 16\u001b[0;31m             \u001b[0mg_pathways\u001b[0m \u001b[0;34m=\u001b[0m \u001b[0mself\u001b[0m\u001b[0;34m.\u001b[0m\u001b[0mpathways_query\u001b[0m\u001b[0;34m(\u001b[0m\u001b[0mself\u001b[0m\u001b[0;34m.\u001b[0m\u001b[0mpathways\u001b[0m\u001b[0;34m[\u001b[0m\u001b[0mself\u001b[0m\u001b[0;34m.\u001b[0m\u001b[0mpathways\u001b[0m\u001b[0;34m.\u001b[0m\u001b[0mPathways\u001b[0m \u001b[0;34m==\u001b[0m \u001b[0mp\u001b[0m\u001b[0;34m]\u001b[0m\u001b[0;34m.\u001b[0m\u001b[0mEnsemble\u001b[0m\u001b[0;34m)\u001b[0m\u001b[0;34m\u001b[0m\u001b[0;34m\u001b[0m\u001b[0m\n\u001b[0m\u001b[1;32m     17\u001b[0m             \u001b[0;31m# Modify the following calculation as needed\u001b[0m\u001b[0;34m\u001b[0m\u001b[0;34m\u001b[0m\u001b[0m\n\u001b[1;32m     18\u001b[0m             \u001b[0mmatrix_values\u001b[0m \u001b[0;34m=\u001b[0m \u001b[0mnp\u001b[0m\u001b[0;34m.\u001b[0m\u001b[0msum\u001b[0m\u001b[0;34m(\u001b[0m\u001b[0mabs\u001b[0m\u001b[0;34m(\u001b[0m\u001b[0mdata_frame\u001b[0m\u001b[0;34m[\u001b[0m\u001b[0mg_pathways\u001b[0m\u001b[0;34m]\u001b[0m\u001b[0;34m)\u001b[0m\u001b[0;34m,\u001b[0m \u001b[0maxis\u001b[0m\u001b[0;34m=\u001b[0m\u001b[0;36m1\u001b[0m\u001b[0;34m)\u001b[0m \u001b[0;34m/\u001b[0m \u001b[0mg_pathways\u001b[0m\u001b[0;34m.\u001b[0m\u001b[0mshape\u001b[0m\u001b[0;34m[\u001b[0m\u001b[0;36m1\u001b[0m\u001b[0;34m]\u001b[0m\u001b[0;34m\u001b[0m\u001b[0;34m\u001b[0m\u001b[0m\n",
      "\u001b[0;31mTypeError\u001b[0m: pathways_query() takes 1 positional argument but 2 were given"
     ]
    }
   ],
   "source": [
    "pa.calculate_matrix(df)"
   ]
  },
  {
   "cell_type": "code",
   "execution_count": null,
   "metadata": {},
   "outputs": [],
   "source": []
  }
 ],
 "metadata": {
  "kernelspec": {
   "display_name": "base",
   "language": "python",
   "name": "python3"
  },
  "language_info": {
   "codemirror_mode": {
    "name": "ipython",
    "version": 3
   },
   "file_extension": ".py",
   "mimetype": "text/x-python",
   "name": "python",
   "nbconvert_exporter": "python",
   "pygments_lexer": "ipython3",
   "version": "3.9.7"
  },
  "orig_nbformat": 4,
  "vscode": {
   "interpreter": {
    "hash": "1b15b47e994a45b2c1c9c2019b348cb81bbb68780db9285c808c045d049d064a"
   }
  }
 },
 "nbformat": 4,
 "nbformat_minor": 2
}
